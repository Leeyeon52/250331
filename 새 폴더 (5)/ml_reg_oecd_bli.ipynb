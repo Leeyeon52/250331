{
  "cells": [
    {
      "cell_type": "markdown",
      "metadata": {
        "id": "9LbtdzIIC1KF"
      },
      "source": [
        "# 1. 한눈에 보는 머신러닝"
      ]
    },
    {
      "cell_type": "markdown",
      "metadata": {
        "id": "LHGDi6R-C1KI"
      },
      "source": [
        "__참고:__ 오렐리앙 제롱의 [<핸즈온 머신러닝(2판)>](https://github.com/ageron/handson-ml2)\n",
        "1장의 소스코드를 사용합니다."
      ]
    },
    {
      "cell_type": "markdown",
      "metadata": {
        "id": "0eStRwPMC1KJ"
      },
      "source": [
        "## 주요 내용"
      ]
    },
    {
      "cell_type": "markdown",
      "metadata": {
        "id": "e8EL4SpeC1KJ"
      },
      "source": [
        "1인당 [GDP(국내총생산)](https://ko.wikipedia.org/wiki/%EA%B5%AD%EB%82%B4%EC%B4%9D%EC%83%9D%EC%82%B0)와 삶의 만족도 사이의\n",
        "선형 관계를 예측하는 모델의 훈련과정을 자세하게 소개한다."
      ]
    },
    {
      "cell_type": "markdown",
      "metadata": {
        "id": "FK9lwyREC1KJ"
      },
      "source": [
        "**참고**\n",
        "\n",
        "핸즈온 머신러닝(3판)은 2020년 데이터를 사용하지만 여기서는 2판에서 사용하는 2015년도 데이터를 사용한다.\n",
        "2020년 데이터는 [연습문제](https://colab.research.google.com/github/codingalzi/handson-ml3/blob/master/practices/practice_ml_landscape.ipynb)에서 다룬다."
      ]
    },
    {
      "cell_type": "markdown",
      "metadata": {
        "id": "i3VsdS7c_yut"
      },
      "source": [
        "## 기본 설정"
      ]
    },
    {
      "cell_type": "markdown",
      "metadata": {
        "id": "F1CPYM7dC1KK"
      },
      "source": [
        "파이썬 3.7 이상을 요구한다."
      ]
    },
    {
      "cell_type": "code",
      "execution_count": 151,
      "metadata": {
        "id": "cZmuxunSC1KK"
      },
      "outputs": [],
      "source": [
        "import sys\n",
        "assert sys.version_info >= (3, 7)"
      ]
    },
    {
      "cell_type": "code",
      "execution_count": 152,
      "metadata": {},
      "outputs": [],
      "source": [
        "from packaging import version\n",
        "import sklearn"
      ]
    },
    {
      "cell_type": "markdown",
      "metadata": {
        "id": "AgKrdUOYC1KL"
      },
      "source": [
        "넘파이와 판다스 모듈은 필수적이다."
      ]
    },
    {
      "cell_type": "code",
      "execution_count": 153,
      "metadata": {
        "id": "Pkthf-FMdXbW"
      },
      "outputs": [],
      "source": [
        "# 모듈: 넘파이와 판다스\n",
        "import numpy as np\n",
        "import pandas as pd"
      ]
    },
    {
      "cell_type": "markdown",
      "metadata": {
        "id": "pXm2da7xC1KL"
      },
      "source": [
        "머신러닝 모델은 무작위 선택을 실행한다.\n",
        "실행 결과를 매번 동일하게 유지하기 위해 랜덤 시드를 지정한다."
      ]
    },
    {
      "cell_type": "code",
      "execution_count": 154,
      "metadata": {
        "id": "u3CSzVKzC1KL"
      },
      "outputs": [],
      "source": [
        "# 랜덤 시드 설정: 동일한 실행 결과 얻기\n",
        "np.random.seed(42)"
      ]
    },
    {
      "cell_type": "markdown",
      "metadata": {
        "id": "AKi74CPkC1KM"
      },
      "source": [
        "그래프 출력에 필요한 기본 설정을 지정한다."
      ]
    },
    {
      "cell_type": "code",
      "execution_count": 155,
      "metadata": {
        "id": "zhaGTBv2C1KM"
      },
      "outputs": [],
      "source": [
        "# 그래프 출력 설정\n",
        "import matplotlib.pyplot as plt\n",
        "\n",
        "plt.rc('font', size=12)\n",
        "plt.rc('axes', labelsize=14, titlesize=14)\n",
        "plt.rc('legend', fontsize=12)\n",
        "plt.rc('xtick', labelsize=10)\n",
        "plt.rc('ytick', labelsize=10)"
      ]
    },
    {
      "cell_type": "markdown",
      "metadata": {
        "id": "u89IMVtLVOjN"
      },
      "source": [
        "판다스 기본 설정"
      ]
    },
    {
      "cell_type": "code",
      "execution_count": 156,
      "metadata": {
        "id": "aTX9oDbqVR0_"
      },
      "outputs": [],
      "source": [
        "pd.set_option('display.max_columns', None)"
      ]
    },
    {
      "cell_type": "markdown",
      "metadata": {
        "id": "ZWo2mNCGC1KM"
      },
      "source": [
        "## 선형 회귀 모델 구현"
      ]
    },
    {
      "cell_type": "markdown",
      "metadata": {
        "id": "faY9oFaPC1KM"
      },
      "source": [
        "선형 회귀 모델의 구현과정은 일반적으로 아래 다섯 단계로 이루어진다.\n",
        "\n",
        "1. 문제 정의\n",
        "1. 데이터 구하기\n",
        "1. 데이터 적재, 정제, 전처리\n",
        "1. 모델 선택과 훈련\n",
        "1. 모델 활용"
      ]
    },
    {
      "cell_type": "markdown",
      "metadata": {
        "id": "_lVvXk2aah6v"
      },
      "source": [
        "### 1단계: 문제 정의"
      ]
    },
    {
      "cell_type": "markdown",
      "metadata": {
        "id": "OgvHisuGC1KM"
      },
      "source": [
        "어느 국가의 1인당 GDP가 알려졌을 때 해당 국가의 삶의 만족도를 예측하는 모델을 구현해야 한다."
      ]
    },
    {
      "cell_type": "markdown",
      "metadata": {
        "id": "3Q6VS4Q0C1KM"
      },
      "source": [
        "### 2단계: 데이터 구하기"
      ]
    },
    {
      "cell_type": "markdown",
      "metadata": {
        "id": "UH3a-VlafLIh"
      },
      "source": [
        "모델 훈련에 사용되는 훈련 셋은 __입력__ 데이터 셋과\n",
        "__타깃__<font size=\"2\">target</font> 데이터 셋으로 구분된다.\n",
        "모델 훈련은 입력 데이터와 타깃 데이터 사이의 관계를 가장 적절하게\n",
        "묘사하는 모델을 학습하는 과정이다."
      ]
    },
    {
      "cell_type": "markdown",
      "metadata": {
        "id": "7MphB0vKC1KN"
      },
      "source": [
        "1인당 GDP와 삶의 만족도 사이의 관계를 가장 적절하게 묘사하는 모델의 훈련에\n",
        "사용되는 훈련 셋은 다음과 같다.\n",
        "\n",
        "- 입력 데이터\n",
        "    - 국가별 1인당 GDP 데이터\n",
        "    - 출처: [국제통화기금(IMF)](https://ko.wikipedia.org/wiki/%EA%B5%AD%EC%A0%9C_%ED%86%B5%ED%99%94_%EA%B8%B0%EA%B8%88#:~:text=%EA%B5%AD%EC%A0%9C%20%ED%86%B5%ED%99%94%20%EA%B8%B0%EA%B8%88(%E5%9C%8B%E9%9A%9B%E9%80%9A%E8%B2%A8,%EC%9C%84%EC%9E%84%EB%B0%9B%EC%9D%80%20%EA%B5%AD%EC%A0%9C%20%EA%B8%B0%EA%B5%AC%EC%9D%B4%EB%8B%A4.)의\n",
        "['세계 경제전망 데이터베이스'](http://goo.gl/j1MSKe).\n",
        "- 타깃 데이터\n",
        "    - [OECD](https://ko.wikipedia.org/wiki/%EA%B2%BD%EC%A0%9C%ED%98%91%EB%A0%A5%EA%B0%9C%EB%B0%9C%EA%B8%B0%EA%B5%AC)\n",
        "    회원 국가별 '삶의 만족도'(life satisfaction) 데이터\n",
        "    - 출처: OECD의\n",
        "        ['더 나은 삶의 지수'(BLI, Better Life Index)](https://stats.oecd.org/Index.aspx?DataSetCode=BLI)."
      ]
    },
    {
      "cell_type": "markdown",
      "metadata": {
        "id": "u2gTcuoeC1KN"
      },
      "source": [
        "훈련 데이터 구하는 과정을 여기서는\n",
        "특정 서버에 저장된 다음 두 개의 csv 파일을 다운로드하는 것으로 대체한다.\n",
        "\n",
        "* gdp_per_capita_2015.csv\n",
        "    - IMF(국제통화기금)에 제공하는 1인당 국내총생산 데이터(GDP) 데이터\n",
        "* oecd_bli_2015.csv\n",
        "    - 2015년도 기준 OECD 국가들의 '더 나은 삶의 지수'(BLI) 데이터"
      ]
    },
    {
      "cell_type": "markdown",
      "metadata": {
        "id": "kRfyzb-iC1KN"
      },
      "source": [
        "최종적으로 아래 표와 같은 데이터를 생성해야 하는데 언급된 데이터 파일을 다운로드 하면 전혀\n",
        "다른 모양의 데이터가 파일에 포함되어 있다.\n",
        "이어지는 3단계는 원본 데이터 파일에서 아래 모양의 표를 어떻게 유도해내는 과정을 자세히 보여준다.\n",
        "하지만 과정이 조금 복잡하기에 여기서는 건너 뛴다.\n",
        "자세한 내용은 [보다 자세히 설명된 주피터 노트북](https://colab.research.google.com/github/codingalzi/handson-ml3/blob/master/notebooks/code_ml_landscape.ipynb)을 참고한다."
      ]
    },
    {
      "cell_type": "markdown",
      "metadata": {
        "id": "j1zJtQnCGE-I"
      },
      "source": [
        "<p><div align=\"center\"><img src=\"https://github.com/codingalzi/handson-ml3/blob/master/jupyter-book/imgs/ch01/gdp-bli-2015.png?raw=true\" style=\"width:350px;\"></div></p>"
      ]
    },
    {
      "cell_type": "markdown",
      "metadata": {
        "id": "1oKdsRdEfLIh"
      },
      "source": [
        "### 3단계: 데이터 적재, 정제, 전처리"
      ]
    },
    {
      "cell_type": "markdown",
      "metadata": {
        "id": "Yge921G8GE-I"
      },
      "source": [
        "여기서는 위 내용의 데이터가 csv 파일로 저장되어 있다고 가정하고\n",
        "다운로드 형식으로 불러온 다음에 선형 머신러닝 모델의 훈련을 위한 데이터 준비와 훈련을 진행한다.\n",
        "\n",
        "데이터가 저장된 서버 주소는 다음과 같다."
      ]
    },
    {
      "cell_type": "code",
      "execution_count": 157,
      "metadata": {
        "id": "WgXBPlpEGE-I"
      },
      "outputs": [],
      "source": [
        "datapath = \"https://raw.githubusercontent.com/codingalzi/handson-ml3/master/notebooks/data/lifesat/\""
      ]
    },
    {
      "cell_type": "markdown",
      "metadata": {
        "id": "cM32IyNSvGBi"
      },
      "source": [
        "### 4단계: OECD 회원국의 GDP 데이터와 삶의 만족도 데이터"
      ]
    },
    {
      "cell_type": "code",
      "execution_count": 158,
      "metadata": {
        "id": "k7fmzEcvvGBi",
        "outputId": "18022725-345b-49b2-97e2-48bd9f25224c"
      },
      "outputs": [
        {
          "data": {
            "text/html": [
              "<div>\n",
              "<style scoped>\n",
              "    .dataframe tbody tr th:only-of-type {\n",
              "        vertical-align: middle;\n",
              "    }\n",
              "\n",
              "    .dataframe tbody tr th {\n",
              "        vertical-align: top;\n",
              "    }\n",
              "\n",
              "    .dataframe thead th {\n",
              "        text-align: right;\n",
              "    }\n",
              "</style>\n",
              "<table border=\"1\" class=\"dataframe\">\n",
              "  <thead>\n",
              "    <tr style=\"text-align: right;\">\n",
              "      <th></th>\n",
              "      <th>LOCATION</th>\n",
              "      <th>Country</th>\n",
              "      <th>INDICATOR</th>\n",
              "      <th>Indicator</th>\n",
              "      <th>MEASURE</th>\n",
              "      <th>Measure</th>\n",
              "      <th>INEQUALITY</th>\n",
              "      <th>Inequality</th>\n",
              "      <th>Unit Code</th>\n",
              "      <th>Unit</th>\n",
              "      <th>PowerCode Code</th>\n",
              "      <th>PowerCode</th>\n",
              "      <th>Reference Period Code</th>\n",
              "      <th>Reference Period</th>\n",
              "      <th>Value</th>\n",
              "      <th>Flag Codes</th>\n",
              "      <th>Flags</th>\n",
              "    </tr>\n",
              "  </thead>\n",
              "  <tbody>\n",
              "    <tr>\n",
              "      <th>0</th>\n",
              "      <td>AUS</td>\n",
              "      <td>Australia</td>\n",
              "      <td>JE_LMIS</td>\n",
              "      <td>Labour market insecurity</td>\n",
              "      <td>L</td>\n",
              "      <td>Value</td>\n",
              "      <td>TOT</td>\n",
              "      <td>Total</td>\n",
              "      <td>PC</td>\n",
              "      <td>Percentage</td>\n",
              "      <td>0</td>\n",
              "      <td>Units</td>\n",
              "      <td>NaN</td>\n",
              "      <td>NaN</td>\n",
              "      <td>5.4</td>\n",
              "      <td>NaN</td>\n",
              "      <td>NaN</td>\n",
              "    </tr>\n",
              "    <tr>\n",
              "      <th>1</th>\n",
              "      <td>AUT</td>\n",
              "      <td>Austria</td>\n",
              "      <td>JE_LMIS</td>\n",
              "      <td>Labour market insecurity</td>\n",
              "      <td>L</td>\n",
              "      <td>Value</td>\n",
              "      <td>TOT</td>\n",
              "      <td>Total</td>\n",
              "      <td>PC</td>\n",
              "      <td>Percentage</td>\n",
              "      <td>0</td>\n",
              "      <td>Units</td>\n",
              "      <td>NaN</td>\n",
              "      <td>NaN</td>\n",
              "      <td>3.5</td>\n",
              "      <td>NaN</td>\n",
              "      <td>NaN</td>\n",
              "    </tr>\n",
              "    <tr>\n",
              "      <th>2</th>\n",
              "      <td>BEL</td>\n",
              "      <td>Belgium</td>\n",
              "      <td>JE_LMIS</td>\n",
              "      <td>Labour market insecurity</td>\n",
              "      <td>L</td>\n",
              "      <td>Value</td>\n",
              "      <td>TOT</td>\n",
              "      <td>Total</td>\n",
              "      <td>PC</td>\n",
              "      <td>Percentage</td>\n",
              "      <td>0</td>\n",
              "      <td>Units</td>\n",
              "      <td>NaN</td>\n",
              "      <td>NaN</td>\n",
              "      <td>3.7</td>\n",
              "      <td>NaN</td>\n",
              "      <td>NaN</td>\n",
              "    </tr>\n",
              "    <tr>\n",
              "      <th>3</th>\n",
              "      <td>CAN</td>\n",
              "      <td>Canada</td>\n",
              "      <td>JE_LMIS</td>\n",
              "      <td>Labour market insecurity</td>\n",
              "      <td>L</td>\n",
              "      <td>Value</td>\n",
              "      <td>TOT</td>\n",
              "      <td>Total</td>\n",
              "      <td>PC</td>\n",
              "      <td>Percentage</td>\n",
              "      <td>0</td>\n",
              "      <td>Units</td>\n",
              "      <td>NaN</td>\n",
              "      <td>NaN</td>\n",
              "      <td>6.0</td>\n",
              "      <td>NaN</td>\n",
              "      <td>NaN</td>\n",
              "    </tr>\n",
              "    <tr>\n",
              "      <th>4</th>\n",
              "      <td>CZE</td>\n",
              "      <td>Czech Republic</td>\n",
              "      <td>JE_LMIS</td>\n",
              "      <td>Labour market insecurity</td>\n",
              "      <td>L</td>\n",
              "      <td>Value</td>\n",
              "      <td>TOT</td>\n",
              "      <td>Total</td>\n",
              "      <td>PC</td>\n",
              "      <td>Percentage</td>\n",
              "      <td>0</td>\n",
              "      <td>Units</td>\n",
              "      <td>NaN</td>\n",
              "      <td>NaN</td>\n",
              "      <td>3.1</td>\n",
              "      <td>NaN</td>\n",
              "      <td>NaN</td>\n",
              "    </tr>\n",
              "  </tbody>\n",
              "</table>\n",
              "</div>"
            ],
            "text/plain": [
              "  LOCATION         Country INDICATOR                 Indicator MEASURE  \\\n",
              "0      AUS       Australia   JE_LMIS  Labour market insecurity       L   \n",
              "1      AUT         Austria   JE_LMIS  Labour market insecurity       L   \n",
              "2      BEL         Belgium   JE_LMIS  Labour market insecurity       L   \n",
              "3      CAN          Canada   JE_LMIS  Labour market insecurity       L   \n",
              "4      CZE  Czech Republic   JE_LMIS  Labour market insecurity       L   \n",
              "\n",
              "  Measure INEQUALITY Inequality Unit Code        Unit  PowerCode Code  \\\n",
              "0   Value        TOT      Total        PC  Percentage               0   \n",
              "1   Value        TOT      Total        PC  Percentage               0   \n",
              "2   Value        TOT      Total        PC  Percentage               0   \n",
              "3   Value        TOT      Total        PC  Percentage               0   \n",
              "4   Value        TOT      Total        PC  Percentage               0   \n",
              "\n",
              "  PowerCode  Reference Period Code  Reference Period  Value  Flag Codes  Flags  \n",
              "0     Units                    NaN               NaN    5.4         NaN    NaN  \n",
              "1     Units                    NaN               NaN    3.5         NaN    NaN  \n",
              "2     Units                    NaN               NaN    3.7         NaN    NaN  \n",
              "3     Units                    NaN               NaN    6.0         NaN    NaN  \n",
              "4     Units                    NaN               NaN    3.1         NaN    NaN  "
            ]
          },
          "execution_count": 158,
          "metadata": {},
          "output_type": "execute_result"
        }
      ],
      "source": [
        "oecd_country_stats = pd.read_csv(datapath + \"oecd_bli_2020.csv\")\n",
        "oecd_country_stats.head()"
      ]
    },
    {
      "cell_type": "code",
      "execution_count": 159,
      "metadata": {
        "id": "2C4QC4KYGE-J",
        "outputId": "912ac2a8-7cea-4ad7-fa56-1f60bba07f82"
      },
      "outputs": [
        {
          "data": {
            "text/html": [
              "<div>\n",
              "<style scoped>\n",
              "    .dataframe tbody tr th:only-of-type {\n",
              "        vertical-align: middle;\n",
              "    }\n",
              "\n",
              "    .dataframe tbody tr th {\n",
              "        vertical-align: top;\n",
              "    }\n",
              "\n",
              "    .dataframe thead th {\n",
              "        text-align: right;\n",
              "    }\n",
              "</style>\n",
              "<table border=\"1\" class=\"dataframe\">\n",
              "  <thead>\n",
              "    <tr style=\"text-align: right;\">\n",
              "      <th></th>\n",
              "      <th>LOCATION</th>\n",
              "      <th>Country</th>\n",
              "      <th>INDICATOR</th>\n",
              "      <th>Indicator</th>\n",
              "      <th>MEASURE</th>\n",
              "      <th>Measure</th>\n",
              "      <th>INEQUALITY</th>\n",
              "      <th>Inequality</th>\n",
              "      <th>Unit Code</th>\n",
              "      <th>Unit</th>\n",
              "      <th>PowerCode Code</th>\n",
              "      <th>PowerCode</th>\n",
              "      <th>Reference Period Code</th>\n",
              "      <th>Reference Period</th>\n",
              "      <th>Value</th>\n",
              "      <th>Flag Codes</th>\n",
              "      <th>Flags</th>\n",
              "    </tr>\n",
              "  </thead>\n",
              "  <tbody>\n",
              "    <tr>\n",
              "      <th>0</th>\n",
              "      <td>AUS</td>\n",
              "      <td>Australia</td>\n",
              "      <td>JE_LMIS</td>\n",
              "      <td>Labour market insecurity</td>\n",
              "      <td>L</td>\n",
              "      <td>Value</td>\n",
              "      <td>TOT</td>\n",
              "      <td>Total</td>\n",
              "      <td>PC</td>\n",
              "      <td>Percentage</td>\n",
              "      <td>0</td>\n",
              "      <td>Units</td>\n",
              "      <td>NaN</td>\n",
              "      <td>NaN</td>\n",
              "      <td>5.40</td>\n",
              "      <td>NaN</td>\n",
              "      <td>NaN</td>\n",
              "    </tr>\n",
              "    <tr>\n",
              "      <th>1</th>\n",
              "      <td>AUT</td>\n",
              "      <td>Austria</td>\n",
              "      <td>JE_LMIS</td>\n",
              "      <td>Labour market insecurity</td>\n",
              "      <td>L</td>\n",
              "      <td>Value</td>\n",
              "      <td>TOT</td>\n",
              "      <td>Total</td>\n",
              "      <td>PC</td>\n",
              "      <td>Percentage</td>\n",
              "      <td>0</td>\n",
              "      <td>Units</td>\n",
              "      <td>NaN</td>\n",
              "      <td>NaN</td>\n",
              "      <td>3.50</td>\n",
              "      <td>NaN</td>\n",
              "      <td>NaN</td>\n",
              "    </tr>\n",
              "    <tr>\n",
              "      <th>2</th>\n",
              "      <td>BEL</td>\n",
              "      <td>Belgium</td>\n",
              "      <td>JE_LMIS</td>\n",
              "      <td>Labour market insecurity</td>\n",
              "      <td>L</td>\n",
              "      <td>Value</td>\n",
              "      <td>TOT</td>\n",
              "      <td>Total</td>\n",
              "      <td>PC</td>\n",
              "      <td>Percentage</td>\n",
              "      <td>0</td>\n",
              "      <td>Units</td>\n",
              "      <td>NaN</td>\n",
              "      <td>NaN</td>\n",
              "      <td>3.70</td>\n",
              "      <td>NaN</td>\n",
              "      <td>NaN</td>\n",
              "    </tr>\n",
              "    <tr>\n",
              "      <th>3</th>\n",
              "      <td>CAN</td>\n",
              "      <td>Canada</td>\n",
              "      <td>JE_LMIS</td>\n",
              "      <td>Labour market insecurity</td>\n",
              "      <td>L</td>\n",
              "      <td>Value</td>\n",
              "      <td>TOT</td>\n",
              "      <td>Total</td>\n",
              "      <td>PC</td>\n",
              "      <td>Percentage</td>\n",
              "      <td>0</td>\n",
              "      <td>Units</td>\n",
              "      <td>NaN</td>\n",
              "      <td>NaN</td>\n",
              "      <td>6.00</td>\n",
              "      <td>NaN</td>\n",
              "      <td>NaN</td>\n",
              "    </tr>\n",
              "    <tr>\n",
              "      <th>4</th>\n",
              "      <td>CZE</td>\n",
              "      <td>Czech Republic</td>\n",
              "      <td>JE_LMIS</td>\n",
              "      <td>Labour market insecurity</td>\n",
              "      <td>L</td>\n",
              "      <td>Value</td>\n",
              "      <td>TOT</td>\n",
              "      <td>Total</td>\n",
              "      <td>PC</td>\n",
              "      <td>Percentage</td>\n",
              "      <td>0</td>\n",
              "      <td>Units</td>\n",
              "      <td>NaN</td>\n",
              "      <td>NaN</td>\n",
              "      <td>3.10</td>\n",
              "      <td>NaN</td>\n",
              "      <td>NaN</td>\n",
              "    </tr>\n",
              "    <tr>\n",
              "      <th>...</th>\n",
              "      <td>...</td>\n",
              "      <td>...</td>\n",
              "      <td>...</td>\n",
              "      <td>...</td>\n",
              "      <td>...</td>\n",
              "      <td>...</td>\n",
              "      <td>...</td>\n",
              "      <td>...</td>\n",
              "      <td>...</td>\n",
              "      <td>...</td>\n",
              "      <td>...</td>\n",
              "      <td>...</td>\n",
              "      <td>...</td>\n",
              "      <td>...</td>\n",
              "      <td>...</td>\n",
              "      <td>...</td>\n",
              "      <td>...</td>\n",
              "    </tr>\n",
              "    <tr>\n",
              "      <th>2364</th>\n",
              "      <td>LTU</td>\n",
              "      <td>Lithuania</td>\n",
              "      <td>WL_EWLH</td>\n",
              "      <td>Employees working very long hours</td>\n",
              "      <td>L</td>\n",
              "      <td>Value</td>\n",
              "      <td>TOT</td>\n",
              "      <td>Total</td>\n",
              "      <td>PC</td>\n",
              "      <td>Percentage</td>\n",
              "      <td>0</td>\n",
              "      <td>Units</td>\n",
              "      <td>NaN</td>\n",
              "      <td>NaN</td>\n",
              "      <td>0.54</td>\n",
              "      <td>NaN</td>\n",
              "      <td>NaN</td>\n",
              "    </tr>\n",
              "    <tr>\n",
              "      <th>2365</th>\n",
              "      <td>COL</td>\n",
              "      <td>Colombia</td>\n",
              "      <td>WL_EWLH</td>\n",
              "      <td>Employees working very long hours</td>\n",
              "      <td>L</td>\n",
              "      <td>Value</td>\n",
              "      <td>MN</td>\n",
              "      <td>Men</td>\n",
              "      <td>PC</td>\n",
              "      <td>Percentage</td>\n",
              "      <td>0</td>\n",
              "      <td>Units</td>\n",
              "      <td>NaN</td>\n",
              "      <td>NaN</td>\n",
              "      <td>32.09</td>\n",
              "      <td>NaN</td>\n",
              "      <td>NaN</td>\n",
              "    </tr>\n",
              "    <tr>\n",
              "      <th>2366</th>\n",
              "      <td>LTU</td>\n",
              "      <td>Lithuania</td>\n",
              "      <td>WL_EWLH</td>\n",
              "      <td>Employees working very long hours</td>\n",
              "      <td>L</td>\n",
              "      <td>Value</td>\n",
              "      <td>MN</td>\n",
              "      <td>Men</td>\n",
              "      <td>PC</td>\n",
              "      <td>Percentage</td>\n",
              "      <td>0</td>\n",
              "      <td>Units</td>\n",
              "      <td>NaN</td>\n",
              "      <td>NaN</td>\n",
              "      <td>0.67</td>\n",
              "      <td>NaN</td>\n",
              "      <td>NaN</td>\n",
              "    </tr>\n",
              "    <tr>\n",
              "      <th>2367</th>\n",
              "      <td>COL</td>\n",
              "      <td>Colombia</td>\n",
              "      <td>WL_EWLH</td>\n",
              "      <td>Employees working very long hours</td>\n",
              "      <td>L</td>\n",
              "      <td>Value</td>\n",
              "      <td>WMN</td>\n",
              "      <td>Women</td>\n",
              "      <td>PC</td>\n",
              "      <td>Percentage</td>\n",
              "      <td>0</td>\n",
              "      <td>Units</td>\n",
              "      <td>NaN</td>\n",
              "      <td>NaN</td>\n",
              "      <td>19.37</td>\n",
              "      <td>NaN</td>\n",
              "      <td>NaN</td>\n",
              "    </tr>\n",
              "    <tr>\n",
              "      <th>2368</th>\n",
              "      <td>LTU</td>\n",
              "      <td>Lithuania</td>\n",
              "      <td>WL_EWLH</td>\n",
              "      <td>Employees working very long hours</td>\n",
              "      <td>L</td>\n",
              "      <td>Value</td>\n",
              "      <td>WMN</td>\n",
              "      <td>Women</td>\n",
              "      <td>PC</td>\n",
              "      <td>Percentage</td>\n",
              "      <td>0</td>\n",
              "      <td>Units</td>\n",
              "      <td>NaN</td>\n",
              "      <td>NaN</td>\n",
              "      <td>0.43</td>\n",
              "      <td>NaN</td>\n",
              "      <td>NaN</td>\n",
              "    </tr>\n",
              "  </tbody>\n",
              "</table>\n",
              "<p>2369 rows × 17 columns</p>\n",
              "</div>"
            ],
            "text/plain": [
              "     LOCATION         Country INDICATOR                          Indicator  \\\n",
              "0         AUS       Australia   JE_LMIS           Labour market insecurity   \n",
              "1         AUT         Austria   JE_LMIS           Labour market insecurity   \n",
              "2         BEL         Belgium   JE_LMIS           Labour market insecurity   \n",
              "3         CAN          Canada   JE_LMIS           Labour market insecurity   \n",
              "4         CZE  Czech Republic   JE_LMIS           Labour market insecurity   \n",
              "...       ...             ...       ...                                ...   \n",
              "2364      LTU       Lithuania   WL_EWLH  Employees working very long hours   \n",
              "2365      COL        Colombia   WL_EWLH  Employees working very long hours   \n",
              "2366      LTU       Lithuania   WL_EWLH  Employees working very long hours   \n",
              "2367      COL        Colombia   WL_EWLH  Employees working very long hours   \n",
              "2368      LTU       Lithuania   WL_EWLH  Employees working very long hours   \n",
              "\n",
              "     MEASURE Measure INEQUALITY Inequality Unit Code        Unit  \\\n",
              "0          L   Value        TOT      Total        PC  Percentage   \n",
              "1          L   Value        TOT      Total        PC  Percentage   \n",
              "2          L   Value        TOT      Total        PC  Percentage   \n",
              "3          L   Value        TOT      Total        PC  Percentage   \n",
              "4          L   Value        TOT      Total        PC  Percentage   \n",
              "...      ...     ...        ...        ...       ...         ...   \n",
              "2364       L   Value        TOT      Total        PC  Percentage   \n",
              "2365       L   Value         MN        Men        PC  Percentage   \n",
              "2366       L   Value         MN        Men        PC  Percentage   \n",
              "2367       L   Value        WMN      Women        PC  Percentage   \n",
              "2368       L   Value        WMN      Women        PC  Percentage   \n",
              "\n",
              "      PowerCode Code PowerCode  Reference Period Code  Reference Period  \\\n",
              "0                  0     Units                    NaN               NaN   \n",
              "1                  0     Units                    NaN               NaN   \n",
              "2                  0     Units                    NaN               NaN   \n",
              "3                  0     Units                    NaN               NaN   \n",
              "4                  0     Units                    NaN               NaN   \n",
              "...              ...       ...                    ...               ...   \n",
              "2364               0     Units                    NaN               NaN   \n",
              "2365               0     Units                    NaN               NaN   \n",
              "2366               0     Units                    NaN               NaN   \n",
              "2367               0     Units                    NaN               NaN   \n",
              "2368               0     Units                    NaN               NaN   \n",
              "\n",
              "      Value  Flag Codes  Flags  \n",
              "0      5.40         NaN    NaN  \n",
              "1      3.50         NaN    NaN  \n",
              "2      3.70         NaN    NaN  \n",
              "3      6.00         NaN    NaN  \n",
              "4      3.10         NaN    NaN  \n",
              "...     ...         ...    ...  \n",
              "2364   0.54         NaN    NaN  \n",
              "2365  32.09         NaN    NaN  \n",
              "2366   0.67         NaN    NaN  \n",
              "2367  19.37         NaN    NaN  \n",
              "2368   0.43         NaN    NaN  \n",
              "\n",
              "[2369 rows x 17 columns]"
            ]
          },
          "execution_count": 159,
          "metadata": {},
          "output_type": "execute_result"
        }
      ],
      "source": [
        "oecd_country_stats"
      ]
    },
    {
      "cell_type": "markdown",
      "metadata": {
        "id": "uBYDgzaoGE-J"
      },
      "source": [
        "국가명을 인덱스로 지정한다."
      ]
    },
    {
      "cell_type": "code",
      "execution_count": 160,
      "metadata": {
        "colab": {
          "base_uri": "https://localhost:8080/",
          "height": 1000
        },
        "id": "HAowwBstvGBi",
        "outputId": "31737221-e4f6-44bd-d3da-4e1fcb503d69"
      },
      "outputs": [
        {
          "data": {
            "text/html": [
              "<div>\n",
              "<style scoped>\n",
              "    .dataframe tbody tr th:only-of-type {\n",
              "        vertical-align: middle;\n",
              "    }\n",
              "\n",
              "    .dataframe tbody tr th {\n",
              "        vertical-align: top;\n",
              "    }\n",
              "\n",
              "    .dataframe thead th {\n",
              "        text-align: right;\n",
              "    }\n",
              "</style>\n",
              "<table border=\"1\" class=\"dataframe\">\n",
              "  <thead>\n",
              "    <tr style=\"text-align: right;\">\n",
              "      <th></th>\n",
              "      <th>LOCATION</th>\n",
              "      <th>INDICATOR</th>\n",
              "      <th>Indicator</th>\n",
              "      <th>MEASURE</th>\n",
              "      <th>Measure</th>\n",
              "      <th>INEQUALITY</th>\n",
              "      <th>Inequality</th>\n",
              "      <th>Unit Code</th>\n",
              "      <th>Unit</th>\n",
              "      <th>PowerCode Code</th>\n",
              "      <th>PowerCode</th>\n",
              "      <th>Reference Period Code</th>\n",
              "      <th>Reference Period</th>\n",
              "      <th>Value</th>\n",
              "      <th>Flag Codes</th>\n",
              "      <th>Flags</th>\n",
              "    </tr>\n",
              "    <tr>\n",
              "      <th>Country</th>\n",
              "      <th></th>\n",
              "      <th></th>\n",
              "      <th></th>\n",
              "      <th></th>\n",
              "      <th></th>\n",
              "      <th></th>\n",
              "      <th></th>\n",
              "      <th></th>\n",
              "      <th></th>\n",
              "      <th></th>\n",
              "      <th></th>\n",
              "      <th></th>\n",
              "      <th></th>\n",
              "      <th></th>\n",
              "      <th></th>\n",
              "      <th></th>\n",
              "    </tr>\n",
              "  </thead>\n",
              "  <tbody>\n",
              "    <tr>\n",
              "      <th>Australia</th>\n",
              "      <td>AUS</td>\n",
              "      <td>JE_LMIS</td>\n",
              "      <td>Labour market insecurity</td>\n",
              "      <td>L</td>\n",
              "      <td>Value</td>\n",
              "      <td>TOT</td>\n",
              "      <td>Total</td>\n",
              "      <td>PC</td>\n",
              "      <td>Percentage</td>\n",
              "      <td>0</td>\n",
              "      <td>Units</td>\n",
              "      <td>NaN</td>\n",
              "      <td>NaN</td>\n",
              "      <td>5.4</td>\n",
              "      <td>NaN</td>\n",
              "      <td>NaN</td>\n",
              "    </tr>\n",
              "    <tr>\n",
              "      <th>Austria</th>\n",
              "      <td>AUT</td>\n",
              "      <td>JE_LMIS</td>\n",
              "      <td>Labour market insecurity</td>\n",
              "      <td>L</td>\n",
              "      <td>Value</td>\n",
              "      <td>TOT</td>\n",
              "      <td>Total</td>\n",
              "      <td>PC</td>\n",
              "      <td>Percentage</td>\n",
              "      <td>0</td>\n",
              "      <td>Units</td>\n",
              "      <td>NaN</td>\n",
              "      <td>NaN</td>\n",
              "      <td>3.5</td>\n",
              "      <td>NaN</td>\n",
              "      <td>NaN</td>\n",
              "    </tr>\n",
              "    <tr>\n",
              "      <th>Belgium</th>\n",
              "      <td>BEL</td>\n",
              "      <td>JE_LMIS</td>\n",
              "      <td>Labour market insecurity</td>\n",
              "      <td>L</td>\n",
              "      <td>Value</td>\n",
              "      <td>TOT</td>\n",
              "      <td>Total</td>\n",
              "      <td>PC</td>\n",
              "      <td>Percentage</td>\n",
              "      <td>0</td>\n",
              "      <td>Units</td>\n",
              "      <td>NaN</td>\n",
              "      <td>NaN</td>\n",
              "      <td>3.7</td>\n",
              "      <td>NaN</td>\n",
              "      <td>NaN</td>\n",
              "    </tr>\n",
              "    <tr>\n",
              "      <th>Canada</th>\n",
              "      <td>CAN</td>\n",
              "      <td>JE_LMIS</td>\n",
              "      <td>Labour market insecurity</td>\n",
              "      <td>L</td>\n",
              "      <td>Value</td>\n",
              "      <td>TOT</td>\n",
              "      <td>Total</td>\n",
              "      <td>PC</td>\n",
              "      <td>Percentage</td>\n",
              "      <td>0</td>\n",
              "      <td>Units</td>\n",
              "      <td>NaN</td>\n",
              "      <td>NaN</td>\n",
              "      <td>6.0</td>\n",
              "      <td>NaN</td>\n",
              "      <td>NaN</td>\n",
              "    </tr>\n",
              "    <tr>\n",
              "      <th>Czech Republic</th>\n",
              "      <td>CZE</td>\n",
              "      <td>JE_LMIS</td>\n",
              "      <td>Labour market insecurity</td>\n",
              "      <td>L</td>\n",
              "      <td>Value</td>\n",
              "      <td>TOT</td>\n",
              "      <td>Total</td>\n",
              "      <td>PC</td>\n",
              "      <td>Percentage</td>\n",
              "      <td>0</td>\n",
              "      <td>Units</td>\n",
              "      <td>NaN</td>\n",
              "      <td>NaN</td>\n",
              "      <td>3.1</td>\n",
              "      <td>NaN</td>\n",
              "      <td>NaN</td>\n",
              "    </tr>\n",
              "  </tbody>\n",
              "</table>\n",
              "</div>"
            ],
            "text/plain": [
              "               LOCATION INDICATOR                 Indicator MEASURE Measure  \\\n",
              "Country                                                                       \n",
              "Australia           AUS   JE_LMIS  Labour market insecurity       L   Value   \n",
              "Austria             AUT   JE_LMIS  Labour market insecurity       L   Value   \n",
              "Belgium             BEL   JE_LMIS  Labour market insecurity       L   Value   \n",
              "Canada              CAN   JE_LMIS  Labour market insecurity       L   Value   \n",
              "Czech Republic      CZE   JE_LMIS  Labour market insecurity       L   Value   \n",
              "\n",
              "               INEQUALITY Inequality Unit Code        Unit  PowerCode Code  \\\n",
              "Country                                                                      \n",
              "Australia             TOT      Total        PC  Percentage               0   \n",
              "Austria               TOT      Total        PC  Percentage               0   \n",
              "Belgium               TOT      Total        PC  Percentage               0   \n",
              "Canada                TOT      Total        PC  Percentage               0   \n",
              "Czech Republic        TOT      Total        PC  Percentage               0   \n",
              "\n",
              "               PowerCode  Reference Period Code  Reference Period  Value  \\\n",
              "Country                                                                    \n",
              "Australia          Units                    NaN               NaN    5.4   \n",
              "Austria            Units                    NaN               NaN    3.5   \n",
              "Belgium            Units                    NaN               NaN    3.7   \n",
              "Canada             Units                    NaN               NaN    6.0   \n",
              "Czech Republic     Units                    NaN               NaN    3.1   \n",
              "\n",
              "                Flag Codes  Flags  \n",
              "Country                            \n",
              "Australia              NaN    NaN  \n",
              "Austria                NaN    NaN  \n",
              "Belgium                NaN    NaN  \n",
              "Canada                 NaN    NaN  \n",
              "Czech Republic         NaN    NaN  "
            ]
          },
          "execution_count": 160,
          "metadata": {},
          "output_type": "execute_result"
        }
      ],
      "source": [
        "oecd_country_stats.set_index(\"Country\", inplace=True)\n",
        "oecd_country_stats.head()"
      ]
    },
    {
      "cell_type": "markdown",
      "metadata": {
        "id": "0-0FXycbC1KT"
      },
      "source": [
        "1인당 GDP와 삶의 만족도 사이의 선형 관계를 눈으로 확인하기 위해 국가를\n",
        "1인당 GDP 기준 오름차순으로 정렬시킨다."
      ]
    },
    {
      "cell_type": "code",
      "execution_count": 161,
      "metadata": {
        "id": "U7XPA6oZC1KT"
      },
      "outputs": [
        {
          "ename": "KeyError",
          "evalue": "'GDP per capita'",
          "output_type": "error",
          "traceback": [
            "\u001b[1;31m---------------------------------------------------------------------------\u001b[0m",
            "\u001b[1;31mKeyError\u001b[0m                                  Traceback (most recent call last)",
            "\u001b[1;32m~\\AppData\\Local\\Temp\\ipykernel_3892\\2590753811.py\u001b[0m in \u001b[0;36m?\u001b[1;34m()\u001b[0m\n\u001b[1;32m----> 1\u001b[1;33m \u001b[0moecd_country_stats\u001b[0m\u001b[1;33m.\u001b[0m\u001b[0msort_values\u001b[0m\u001b[1;33m(\u001b[0m\u001b[0mby\u001b[0m\u001b[1;33m=\u001b[0m\u001b[1;34m\"GDP per capita\"\u001b[0m\u001b[1;33m,\u001b[0m \u001b[0minplace\u001b[0m\u001b[1;33m=\u001b[0m\u001b[1;32mTrue\u001b[0m\u001b[1;33m)\u001b[0m\u001b[1;33m\u001b[0m\u001b[1;33m\u001b[0m\u001b[0m\n\u001b[0m",
            "\u001b[1;32mc:\\Users\\302-15\\anaconda3\\Lib\\site-packages\\pandas\\core\\frame.py\u001b[0m in \u001b[0;36m?\u001b[1;34m(self, by, axis, ascending, inplace, kind, na_position, ignore_index, key)\u001b[0m\n",
            "\u001b[1;32mc:\\Users\\302-15\\anaconda3\\Lib\\site-packages\\pandas\\core\\generic.py\u001b[0m in \u001b[0;36m?\u001b[1;34m(self, key, axis)\u001b[0m\n",
            "\u001b[1;31mKeyError\u001b[0m: 'GDP per capita'"
          ]
        }
      ],
      "source": [
        "oecd_country_stats.sort_values(by=\"GDP per capita\", inplace=True)"
      ]
    },
    {
      "cell_type": "markdown",
      "metadata": {
        "id": "--F4c4GXGE-K"
      },
      "source": [
        "- GDP가 가장 낮은 5 개국"
      ]
    },
    {
      "cell_type": "code",
      "execution_count": null,
      "metadata": {
        "colab": {
          "base_uri": "https://localhost:8080/",
          "height": 1000
        },
        "id": "hum6cZ_eGE-K",
        "outputId": "890d2643-fb5d-4da7-ad02-747487ecb07d"
      },
      "outputs": [
        {
          "data": {
            "text/html": [
              "<div>\n",
              "<style scoped>\n",
              "    .dataframe tbody tr th:only-of-type {\n",
              "        vertical-align: middle;\n",
              "    }\n",
              "\n",
              "    .dataframe tbody tr th {\n",
              "        vertical-align: top;\n",
              "    }\n",
              "\n",
              "    .dataframe thead th {\n",
              "        text-align: right;\n",
              "    }\n",
              "</style>\n",
              "<table border=\"1\" class=\"dataframe\">\n",
              "  <thead>\n",
              "    <tr style=\"text-align: right;\">\n",
              "      <th></th>\n",
              "      <th>LOCATION</th>\n",
              "      <th>INDICATOR</th>\n",
              "      <th>Indicator</th>\n",
              "      <th>MEASURE</th>\n",
              "      <th>Measure</th>\n",
              "      <th>INEQUALITY</th>\n",
              "      <th>Inequality</th>\n",
              "      <th>Unit Code</th>\n",
              "      <th>Unit</th>\n",
              "      <th>PowerCode Code</th>\n",
              "      <th>PowerCode</th>\n",
              "      <th>Reference Period Code</th>\n",
              "      <th>Reference Period</th>\n",
              "      <th>Value</th>\n",
              "      <th>Flag Codes</th>\n",
              "      <th>Flags</th>\n",
              "    </tr>\n",
              "    <tr>\n",
              "      <th>Country</th>\n",
              "      <th></th>\n",
              "      <th></th>\n",
              "      <th></th>\n",
              "      <th></th>\n",
              "      <th></th>\n",
              "      <th></th>\n",
              "      <th></th>\n",
              "      <th></th>\n",
              "      <th></th>\n",
              "      <th></th>\n",
              "      <th></th>\n",
              "      <th></th>\n",
              "      <th></th>\n",
              "      <th></th>\n",
              "      <th></th>\n",
              "      <th></th>\n",
              "    </tr>\n",
              "  </thead>\n",
              "  <tbody>\n",
              "    <tr>\n",
              "      <th>Australia</th>\n",
              "      <td>AUS</td>\n",
              "      <td>JE_LMIS</td>\n",
              "      <td>Labour market insecurity</td>\n",
              "      <td>L</td>\n",
              "      <td>Value</td>\n",
              "      <td>TOT</td>\n",
              "      <td>Total</td>\n",
              "      <td>PC</td>\n",
              "      <td>Percentage</td>\n",
              "      <td>0</td>\n",
              "      <td>Units</td>\n",
              "      <td>NaN</td>\n",
              "      <td>NaN</td>\n",
              "      <td>5.4</td>\n",
              "      <td>NaN</td>\n",
              "      <td>NaN</td>\n",
              "    </tr>\n",
              "    <tr>\n",
              "      <th>Austria</th>\n",
              "      <td>AUT</td>\n",
              "      <td>JE_LMIS</td>\n",
              "      <td>Labour market insecurity</td>\n",
              "      <td>L</td>\n",
              "      <td>Value</td>\n",
              "      <td>TOT</td>\n",
              "      <td>Total</td>\n",
              "      <td>PC</td>\n",
              "      <td>Percentage</td>\n",
              "      <td>0</td>\n",
              "      <td>Units</td>\n",
              "      <td>NaN</td>\n",
              "      <td>NaN</td>\n",
              "      <td>3.5</td>\n",
              "      <td>NaN</td>\n",
              "      <td>NaN</td>\n",
              "    </tr>\n",
              "    <tr>\n",
              "      <th>Belgium</th>\n",
              "      <td>BEL</td>\n",
              "      <td>JE_LMIS</td>\n",
              "      <td>Labour market insecurity</td>\n",
              "      <td>L</td>\n",
              "      <td>Value</td>\n",
              "      <td>TOT</td>\n",
              "      <td>Total</td>\n",
              "      <td>PC</td>\n",
              "      <td>Percentage</td>\n",
              "      <td>0</td>\n",
              "      <td>Units</td>\n",
              "      <td>NaN</td>\n",
              "      <td>NaN</td>\n",
              "      <td>3.7</td>\n",
              "      <td>NaN</td>\n",
              "      <td>NaN</td>\n",
              "    </tr>\n",
              "    <tr>\n",
              "      <th>Canada</th>\n",
              "      <td>CAN</td>\n",
              "      <td>JE_LMIS</td>\n",
              "      <td>Labour market insecurity</td>\n",
              "      <td>L</td>\n",
              "      <td>Value</td>\n",
              "      <td>TOT</td>\n",
              "      <td>Total</td>\n",
              "      <td>PC</td>\n",
              "      <td>Percentage</td>\n",
              "      <td>0</td>\n",
              "      <td>Units</td>\n",
              "      <td>NaN</td>\n",
              "      <td>NaN</td>\n",
              "      <td>6.0</td>\n",
              "      <td>NaN</td>\n",
              "      <td>NaN</td>\n",
              "    </tr>\n",
              "    <tr>\n",
              "      <th>Czech Republic</th>\n",
              "      <td>CZE</td>\n",
              "      <td>JE_LMIS</td>\n",
              "      <td>Labour market insecurity</td>\n",
              "      <td>L</td>\n",
              "      <td>Value</td>\n",
              "      <td>TOT</td>\n",
              "      <td>Total</td>\n",
              "      <td>PC</td>\n",
              "      <td>Percentage</td>\n",
              "      <td>0</td>\n",
              "      <td>Units</td>\n",
              "      <td>NaN</td>\n",
              "      <td>NaN</td>\n",
              "      <td>3.1</td>\n",
              "      <td>NaN</td>\n",
              "      <td>NaN</td>\n",
              "    </tr>\n",
              "  </tbody>\n",
              "</table>\n",
              "</div>"
            ],
            "text/plain": [
              "               LOCATION INDICATOR                 Indicator MEASURE Measure  \\\n",
              "Country                                                                       \n",
              "Australia           AUS   JE_LMIS  Labour market insecurity       L   Value   \n",
              "Austria             AUT   JE_LMIS  Labour market insecurity       L   Value   \n",
              "Belgium             BEL   JE_LMIS  Labour market insecurity       L   Value   \n",
              "Canada              CAN   JE_LMIS  Labour market insecurity       L   Value   \n",
              "Czech Republic      CZE   JE_LMIS  Labour market insecurity       L   Value   \n",
              "\n",
              "               INEQUALITY Inequality Unit Code        Unit  PowerCode Code  \\\n",
              "Country                                                                      \n",
              "Australia             TOT      Total        PC  Percentage               0   \n",
              "Austria               TOT      Total        PC  Percentage               0   \n",
              "Belgium               TOT      Total        PC  Percentage               0   \n",
              "Canada                TOT      Total        PC  Percentage               0   \n",
              "Czech Republic        TOT      Total        PC  Percentage               0   \n",
              "\n",
              "               PowerCode  Reference Period Code  Reference Period  Value  \\\n",
              "Country                                                                    \n",
              "Australia          Units                    NaN               NaN    5.4   \n",
              "Austria            Units                    NaN               NaN    3.5   \n",
              "Belgium            Units                    NaN               NaN    3.7   \n",
              "Canada             Units                    NaN               NaN    6.0   \n",
              "Czech Republic     Units                    NaN               NaN    3.1   \n",
              "\n",
              "                Flag Codes  Flags  \n",
              "Country                            \n",
              "Australia              NaN    NaN  \n",
              "Austria                NaN    NaN  \n",
              "Belgium                NaN    NaN  \n",
              "Canada                 NaN    NaN  \n",
              "Czech Republic         NaN    NaN  "
            ]
          },
          "execution_count": 84,
          "metadata": {},
          "output_type": "execute_result"
        }
      ],
      "source": [
        "oecd_country_stats.head()"
      ]
    },
    {
      "cell_type": "markdown",
      "metadata": {
        "id": "AIats5wWGE-K"
      },
      "source": [
        "- GDP가 가장 높은 5 개국"
      ]
    },
    {
      "cell_type": "code",
      "execution_count": null,
      "metadata": {
        "colab": {
          "base_uri": "https://localhost:8080/",
          "height": 1000
        },
        "id": "FNjDJka2GE-M",
        "outputId": "890d2643-fb5d-4da7-ad02-747487ecb07d"
      },
      "outputs": [
        {
          "data": {
            "text/html": [
              "<div>\n",
              "<style scoped>\n",
              "    .dataframe tbody tr th:only-of-type {\n",
              "        vertical-align: middle;\n",
              "    }\n",
              "\n",
              "    .dataframe tbody tr th {\n",
              "        vertical-align: top;\n",
              "    }\n",
              "\n",
              "    .dataframe thead th {\n",
              "        text-align: right;\n",
              "    }\n",
              "</style>\n",
              "<table border=\"1\" class=\"dataframe\">\n",
              "  <thead>\n",
              "    <tr style=\"text-align: right;\">\n",
              "      <th></th>\n",
              "      <th>LOCATION</th>\n",
              "      <th>INDICATOR</th>\n",
              "      <th>Indicator</th>\n",
              "      <th>MEASURE</th>\n",
              "      <th>Measure</th>\n",
              "      <th>INEQUALITY</th>\n",
              "      <th>Inequality</th>\n",
              "      <th>Unit Code</th>\n",
              "      <th>Unit</th>\n",
              "      <th>PowerCode Code</th>\n",
              "      <th>PowerCode</th>\n",
              "      <th>Reference Period Code</th>\n",
              "      <th>Reference Period</th>\n",
              "      <th>Value</th>\n",
              "      <th>Flag Codes</th>\n",
              "      <th>Flags</th>\n",
              "    </tr>\n",
              "    <tr>\n",
              "      <th>Country</th>\n",
              "      <th></th>\n",
              "      <th></th>\n",
              "      <th></th>\n",
              "      <th></th>\n",
              "      <th></th>\n",
              "      <th></th>\n",
              "      <th></th>\n",
              "      <th></th>\n",
              "      <th></th>\n",
              "      <th></th>\n",
              "      <th></th>\n",
              "      <th></th>\n",
              "      <th></th>\n",
              "      <th></th>\n",
              "      <th></th>\n",
              "      <th></th>\n",
              "    </tr>\n",
              "  </thead>\n",
              "  <tbody>\n",
              "    <tr>\n",
              "      <th>Lithuania</th>\n",
              "      <td>LTU</td>\n",
              "      <td>WL_EWLH</td>\n",
              "      <td>Employees working very long hours</td>\n",
              "      <td>L</td>\n",
              "      <td>Value</td>\n",
              "      <td>TOT</td>\n",
              "      <td>Total</td>\n",
              "      <td>PC</td>\n",
              "      <td>Percentage</td>\n",
              "      <td>0</td>\n",
              "      <td>Units</td>\n",
              "      <td>NaN</td>\n",
              "      <td>NaN</td>\n",
              "      <td>0.54</td>\n",
              "      <td>NaN</td>\n",
              "      <td>NaN</td>\n",
              "    </tr>\n",
              "    <tr>\n",
              "      <th>Colombia</th>\n",
              "      <td>COL</td>\n",
              "      <td>WL_EWLH</td>\n",
              "      <td>Employees working very long hours</td>\n",
              "      <td>L</td>\n",
              "      <td>Value</td>\n",
              "      <td>MN</td>\n",
              "      <td>Men</td>\n",
              "      <td>PC</td>\n",
              "      <td>Percentage</td>\n",
              "      <td>0</td>\n",
              "      <td>Units</td>\n",
              "      <td>NaN</td>\n",
              "      <td>NaN</td>\n",
              "      <td>32.09</td>\n",
              "      <td>NaN</td>\n",
              "      <td>NaN</td>\n",
              "    </tr>\n",
              "    <tr>\n",
              "      <th>Lithuania</th>\n",
              "      <td>LTU</td>\n",
              "      <td>WL_EWLH</td>\n",
              "      <td>Employees working very long hours</td>\n",
              "      <td>L</td>\n",
              "      <td>Value</td>\n",
              "      <td>MN</td>\n",
              "      <td>Men</td>\n",
              "      <td>PC</td>\n",
              "      <td>Percentage</td>\n",
              "      <td>0</td>\n",
              "      <td>Units</td>\n",
              "      <td>NaN</td>\n",
              "      <td>NaN</td>\n",
              "      <td>0.67</td>\n",
              "      <td>NaN</td>\n",
              "      <td>NaN</td>\n",
              "    </tr>\n",
              "    <tr>\n",
              "      <th>Colombia</th>\n",
              "      <td>COL</td>\n",
              "      <td>WL_EWLH</td>\n",
              "      <td>Employees working very long hours</td>\n",
              "      <td>L</td>\n",
              "      <td>Value</td>\n",
              "      <td>WMN</td>\n",
              "      <td>Women</td>\n",
              "      <td>PC</td>\n",
              "      <td>Percentage</td>\n",
              "      <td>0</td>\n",
              "      <td>Units</td>\n",
              "      <td>NaN</td>\n",
              "      <td>NaN</td>\n",
              "      <td>19.37</td>\n",
              "      <td>NaN</td>\n",
              "      <td>NaN</td>\n",
              "    </tr>\n",
              "    <tr>\n",
              "      <th>Lithuania</th>\n",
              "      <td>LTU</td>\n",
              "      <td>WL_EWLH</td>\n",
              "      <td>Employees working very long hours</td>\n",
              "      <td>L</td>\n",
              "      <td>Value</td>\n",
              "      <td>WMN</td>\n",
              "      <td>Women</td>\n",
              "      <td>PC</td>\n",
              "      <td>Percentage</td>\n",
              "      <td>0</td>\n",
              "      <td>Units</td>\n",
              "      <td>NaN</td>\n",
              "      <td>NaN</td>\n",
              "      <td>0.43</td>\n",
              "      <td>NaN</td>\n",
              "      <td>NaN</td>\n",
              "    </tr>\n",
              "  </tbody>\n",
              "</table>\n",
              "</div>"
            ],
            "text/plain": [
              "          LOCATION INDICATOR                          Indicator MEASURE  \\\n",
              "Country                                                                   \n",
              "Lithuania      LTU   WL_EWLH  Employees working very long hours       L   \n",
              "Colombia       COL   WL_EWLH  Employees working very long hours       L   \n",
              "Lithuania      LTU   WL_EWLH  Employees working very long hours       L   \n",
              "Colombia       COL   WL_EWLH  Employees working very long hours       L   \n",
              "Lithuania      LTU   WL_EWLH  Employees working very long hours       L   \n",
              "\n",
              "          Measure INEQUALITY Inequality Unit Code        Unit  PowerCode Code  \\\n",
              "Country                                                                         \n",
              "Lithuania   Value        TOT      Total        PC  Percentage               0   \n",
              "Colombia    Value         MN        Men        PC  Percentage               0   \n",
              "Lithuania   Value         MN        Men        PC  Percentage               0   \n",
              "Colombia    Value        WMN      Women        PC  Percentage               0   \n",
              "Lithuania   Value        WMN      Women        PC  Percentage               0   \n",
              "\n",
              "          PowerCode  Reference Period Code  Reference Period  Value  \\\n",
              "Country                                                               \n",
              "Lithuania     Units                    NaN               NaN   0.54   \n",
              "Colombia      Units                    NaN               NaN  32.09   \n",
              "Lithuania     Units                    NaN               NaN   0.67   \n",
              "Colombia      Units                    NaN               NaN  19.37   \n",
              "Lithuania     Units                    NaN               NaN   0.43   \n",
              "\n",
              "           Flag Codes  Flags  \n",
              "Country                       \n",
              "Lithuania         NaN    NaN  \n",
              "Colombia          NaN    NaN  \n",
              "Lithuania         NaN    NaN  \n",
              "Colombia          NaN    NaN  \n",
              "Lithuania         NaN    NaN  "
            ]
          },
          "execution_count": 85,
          "metadata": {},
          "output_type": "execute_result"
        }
      ],
      "source": [
        "oecd_country_stats.tail()"
      ]
    },
    {
      "cell_type": "markdown",
      "metadata": {
        "id": "hwaalbQ1C1KT"
      },
      "source": [
        "#### 추가 설정"
      ]
    },
    {
      "cell_type": "markdown",
      "metadata": {
        "id": "bBKF8FbcK75g"
      },
      "source": [
        "선형 회귀 모델을 훈련시킬 때 발생할 수 있는 과대적합 문제를 설명하기 위해\n",
        "고의로 7개 국가의 데이터를 데이터 셋에서 제외시키고 훈련 시킬 때와\n",
        "그렇지 않을 때를 비교한다.\n",
        "\n",
        "제외 대상 국가는 브라질, 멕시코, 칠레, 체코, 노르웨이, 스위스, 룩셈부르크 이다.\n",
        "데이터프레임에서 아래 인덱스를 이용하여 7개 국가를 제외시키고 훈련을 시킬 것이다."
      ]
    },
    {
      "cell_type": "code",
      "execution_count": null,
      "metadata": {
        "id": "ZN4J5Ew8fLIj"
      },
      "outputs": [],
      "source": [
        "omitted_indices = [0, 1, 6, 8, 33, 34, 35]\n",
        "\n",
        "kept_indices = list( set(range(36)) - set(omitted_indices) )"
      ]
    },
    {
      "cell_type": "markdown",
      "metadata": {
        "id": "y4CqTfGSC1KU"
      },
      "source": [
        "제외된 7개 국가의 1인당 GDP와 삶의 만족도 데이터는 다음과 같다."
      ]
    },
    {
      "cell_type": "code",
      "execution_count": null,
      "metadata": {
        "colab": {
          "base_uri": "https://localhost:8080/",
          "height": 300
        },
        "id": "Wz2MHKM1C1KU",
        "outputId": "37f9918c-c9e5-4817-afe8-925dc8948ce4"
      },
      "outputs": [
        {
          "data": {
            "text/html": [
              "<div>\n",
              "<style scoped>\n",
              "    .dataframe tbody tr th:only-of-type {\n",
              "        vertical-align: middle;\n",
              "    }\n",
              "\n",
              "    .dataframe tbody tr th {\n",
              "        vertical-align: top;\n",
              "    }\n",
              "\n",
              "    .dataframe thead th {\n",
              "        text-align: right;\n",
              "    }\n",
              "</style>\n",
              "<table border=\"1\" class=\"dataframe\">\n",
              "  <thead>\n",
              "    <tr style=\"text-align: right;\">\n",
              "      <th></th>\n",
              "      <th>LOCATION</th>\n",
              "      <th>INDICATOR</th>\n",
              "      <th>Indicator</th>\n",
              "      <th>MEASURE</th>\n",
              "      <th>Measure</th>\n",
              "      <th>INEQUALITY</th>\n",
              "      <th>Inequality</th>\n",
              "      <th>Unit Code</th>\n",
              "      <th>Unit</th>\n",
              "      <th>PowerCode Code</th>\n",
              "      <th>PowerCode</th>\n",
              "      <th>Reference Period Code</th>\n",
              "      <th>Reference Period</th>\n",
              "      <th>Value</th>\n",
              "      <th>Flag Codes</th>\n",
              "      <th>Flags</th>\n",
              "    </tr>\n",
              "    <tr>\n",
              "      <th>Country</th>\n",
              "      <th></th>\n",
              "      <th></th>\n",
              "      <th></th>\n",
              "      <th></th>\n",
              "      <th></th>\n",
              "      <th></th>\n",
              "      <th></th>\n",
              "      <th></th>\n",
              "      <th></th>\n",
              "      <th></th>\n",
              "      <th></th>\n",
              "      <th></th>\n",
              "      <th></th>\n",
              "      <th></th>\n",
              "      <th></th>\n",
              "      <th></th>\n",
              "    </tr>\n",
              "  </thead>\n",
              "  <tbody>\n",
              "    <tr>\n",
              "      <th>Australia</th>\n",
              "      <td>AUS</td>\n",
              "      <td>JE_LMIS</td>\n",
              "      <td>Labour market insecurity</td>\n",
              "      <td>L</td>\n",
              "      <td>Value</td>\n",
              "      <td>TOT</td>\n",
              "      <td>Total</td>\n",
              "      <td>PC</td>\n",
              "      <td>Percentage</td>\n",
              "      <td>0</td>\n",
              "      <td>Units</td>\n",
              "      <td>NaN</td>\n",
              "      <td>NaN</td>\n",
              "      <td>5.4</td>\n",
              "      <td>NaN</td>\n",
              "      <td>NaN</td>\n",
              "    </tr>\n",
              "    <tr>\n",
              "      <th>Austria</th>\n",
              "      <td>AUT</td>\n",
              "      <td>JE_LMIS</td>\n",
              "      <td>Labour market insecurity</td>\n",
              "      <td>L</td>\n",
              "      <td>Value</td>\n",
              "      <td>TOT</td>\n",
              "      <td>Total</td>\n",
              "      <td>PC</td>\n",
              "      <td>Percentage</td>\n",
              "      <td>0</td>\n",
              "      <td>Units</td>\n",
              "      <td>NaN</td>\n",
              "      <td>NaN</td>\n",
              "      <td>3.5</td>\n",
              "      <td>NaN</td>\n",
              "      <td>NaN</td>\n",
              "    </tr>\n",
              "    <tr>\n",
              "      <th>Finland</th>\n",
              "      <td>FIN</td>\n",
              "      <td>JE_LMIS</td>\n",
              "      <td>Labour market insecurity</td>\n",
              "      <td>L</td>\n",
              "      <td>Value</td>\n",
              "      <td>TOT</td>\n",
              "      <td>Total</td>\n",
              "      <td>PC</td>\n",
              "      <td>Percentage</td>\n",
              "      <td>0</td>\n",
              "      <td>Units</td>\n",
              "      <td>NaN</td>\n",
              "      <td>NaN</td>\n",
              "      <td>3.9</td>\n",
              "      <td>NaN</td>\n",
              "      <td>NaN</td>\n",
              "    </tr>\n",
              "    <tr>\n",
              "      <th>Germany</th>\n",
              "      <td>DEU</td>\n",
              "      <td>JE_LMIS</td>\n",
              "      <td>Labour market insecurity</td>\n",
              "      <td>L</td>\n",
              "      <td>Value</td>\n",
              "      <td>TOT</td>\n",
              "      <td>Total</td>\n",
              "      <td>PC</td>\n",
              "      <td>Percentage</td>\n",
              "      <td>0</td>\n",
              "      <td>Units</td>\n",
              "      <td>NaN</td>\n",
              "      <td>NaN</td>\n",
              "      <td>2.7</td>\n",
              "      <td>NaN</td>\n",
              "      <td>NaN</td>\n",
              "    </tr>\n",
              "    <tr>\n",
              "      <th>OECD - Total</th>\n",
              "      <td>OECD</td>\n",
              "      <td>JE_LMIS</td>\n",
              "      <td>Labour market insecurity</td>\n",
              "      <td>L</td>\n",
              "      <td>Value</td>\n",
              "      <td>TOT</td>\n",
              "      <td>Total</td>\n",
              "      <td>PC</td>\n",
              "      <td>Percentage</td>\n",
              "      <td>0</td>\n",
              "      <td>Units</td>\n",
              "      <td>NaN</td>\n",
              "      <td>NaN</td>\n",
              "      <td>7.0</td>\n",
              "      <td>NaN</td>\n",
              "      <td>NaN</td>\n",
              "    </tr>\n",
              "    <tr>\n",
              "      <th>Australia</th>\n",
              "      <td>AUS</td>\n",
              "      <td>JE_LMIS</td>\n",
              "      <td>Labour market insecurity</td>\n",
              "      <td>L</td>\n",
              "      <td>Value</td>\n",
              "      <td>MN</td>\n",
              "      <td>Men</td>\n",
              "      <td>PC</td>\n",
              "      <td>Percentage</td>\n",
              "      <td>0</td>\n",
              "      <td>Units</td>\n",
              "      <td>NaN</td>\n",
              "      <td>NaN</td>\n",
              "      <td>5.9</td>\n",
              "      <td>NaN</td>\n",
              "      <td>NaN</td>\n",
              "    </tr>\n",
              "    <tr>\n",
              "      <th>Austria</th>\n",
              "      <td>AUT</td>\n",
              "      <td>JE_LMIS</td>\n",
              "      <td>Labour market insecurity</td>\n",
              "      <td>L</td>\n",
              "      <td>Value</td>\n",
              "      <td>MN</td>\n",
              "      <td>Men</td>\n",
              "      <td>PC</td>\n",
              "      <td>Percentage</td>\n",
              "      <td>0</td>\n",
              "      <td>Units</td>\n",
              "      <td>NaN</td>\n",
              "      <td>NaN</td>\n",
              "      <td>4.2</td>\n",
              "      <td>NaN</td>\n",
              "      <td>NaN</td>\n",
              "    </tr>\n",
              "  </tbody>\n",
              "</table>\n",
              "</div>"
            ],
            "text/plain": [
              "             LOCATION INDICATOR                 Indicator MEASURE Measure  \\\n",
              "Country                                                                     \n",
              "Australia         AUS   JE_LMIS  Labour market insecurity       L   Value   \n",
              "Austria           AUT   JE_LMIS  Labour market insecurity       L   Value   \n",
              "Finland           FIN   JE_LMIS  Labour market insecurity       L   Value   \n",
              "Germany           DEU   JE_LMIS  Labour market insecurity       L   Value   \n",
              "OECD - Total     OECD   JE_LMIS  Labour market insecurity       L   Value   \n",
              "Australia         AUS   JE_LMIS  Labour market insecurity       L   Value   \n",
              "Austria           AUT   JE_LMIS  Labour market insecurity       L   Value   \n",
              "\n",
              "             INEQUALITY Inequality Unit Code        Unit  PowerCode Code  \\\n",
              "Country                                                                    \n",
              "Australia           TOT      Total        PC  Percentage               0   \n",
              "Austria             TOT      Total        PC  Percentage               0   \n",
              "Finland             TOT      Total        PC  Percentage               0   \n",
              "Germany             TOT      Total        PC  Percentage               0   \n",
              "OECD - Total        TOT      Total        PC  Percentage               0   \n",
              "Australia            MN        Men        PC  Percentage               0   \n",
              "Austria              MN        Men        PC  Percentage               0   \n",
              "\n",
              "             PowerCode  Reference Period Code  Reference Period  Value  \\\n",
              "Country                                                                  \n",
              "Australia        Units                    NaN               NaN    5.4   \n",
              "Austria          Units                    NaN               NaN    3.5   \n",
              "Finland          Units                    NaN               NaN    3.9   \n",
              "Germany          Units                    NaN               NaN    2.7   \n",
              "OECD - Total     Units                    NaN               NaN    7.0   \n",
              "Australia        Units                    NaN               NaN    5.9   \n",
              "Austria          Units                    NaN               NaN    4.2   \n",
              "\n",
              "              Flag Codes  Flags  \n",
              "Country                          \n",
              "Australia            NaN    NaN  \n",
              "Austria              NaN    NaN  \n",
              "Finland              NaN    NaN  \n",
              "Germany              NaN    NaN  \n",
              "OECD - Total         NaN    NaN  \n",
              "Australia            NaN    NaN  \n",
              "Austria              NaN    NaN  "
            ]
          },
          "execution_count": 87,
          "metadata": {},
          "output_type": "execute_result"
        }
      ],
      "source": [
        "missing_data = oecd_country_stats.iloc[omitted_indices]\n",
        "\n",
        "missing_data"
      ]
    },
    {
      "cell_type": "markdown",
      "metadata": {
        "id": "K4K57J0nC1KU"
      },
      "source": [
        "7개 국가를 제외한 국가들의 1인당 GDP와 삶의 만족도 데이터를 지정한다."
      ]
    },
    {
      "cell_type": "code",
      "execution_count": null,
      "metadata": {
        "id": "qax3AOkHC1KU"
      },
      "outputs": [],
      "source": [
        "sample_data = oecd_country_stats.iloc[kept_indices]"
      ]
    },
    {
      "cell_type": "markdown",
      "metadata": {
        "id": "B7ZOe2t7C1KU"
      },
      "source": [
        "### 5단계: 모델 선택과 훈련"
      ]
    },
    {
      "cell_type": "markdown",
      "metadata": {
        "id": "jtxTmNgjM0jH"
      },
      "source": [
        "#### 선형 관계 확인"
      ]
    },
    {
      "cell_type": "markdown",
      "metadata": {
        "id": "opoNhrYMLBRp"
      },
      "source": [
        "아래 코드는 앞서 언급된 7개 국가의 데이터를 제외한 국가들의 1인당 GDP와\n",
        "삶의 만족도 사이의 관계를 산점도로 나타낸다.\n",
        "선형관계를 잘 보여주는 다음 다섯 개 국가는 빨간색 점으로 표시한다.\n",
        "\n",
        "* 헝가리(Hungary)\n",
        "* 대한민국(Korea)\n",
        "* 프랑스(France)\n",
        "* 호주(Australia)\n",
        "* 미국(United States)"
      ]
    },
    {
      "cell_type": "code",
      "execution_count": null,
      "metadata": {
        "colab": {
          "base_uri": "https://localhost:8080/",
          "height": 321
        },
        "id": "786ll6jafLIj",
        "outputId": "b4a7774b-5629-4952-866c-679efde45912"
      },
      "outputs": [
        {
          "ename": "KeyError",
          "evalue": "'GDP per capita'",
          "output_type": "error",
          "traceback": [
            "\u001b[1;31m---------------------------------------------------------------------------\u001b[0m",
            "\u001b[1;31mKeyError\u001b[0m                                  Traceback (most recent call last)",
            "File \u001b[1;32mc:\\Users\\302-15\\anaconda3\\Lib\\site-packages\\pandas\\core\\indexes\\base.py:3791\u001b[0m, in \u001b[0;36mget_loc\u001b[1;34m(self, key)\u001b[0m\n\u001b[0;32m   3777\u001b[0m \u001b[38;5;28;01mdef\u001b[39;00m \u001b[38;5;21mget_loc\u001b[39m(\u001b[38;5;28mself\u001b[39m, key):\n\u001b[0;32m   3778\u001b[0m \u001b[38;5;250m    \u001b[39m\u001b[38;5;124;03m\"\"\"\u001b[39;00m\n\u001b[0;32m   3779\u001b[0m \u001b[38;5;124;03m    Get integer location, slice or boolean mask for requested label.\u001b[39;00m\n\u001b[0;32m   3780\u001b[0m \n\u001b[0;32m   3781\u001b[0m \u001b[38;5;124;03m    Parameters\u001b[39;00m\n\u001b[0;32m   3782\u001b[0m \u001b[38;5;124;03m    ----------\u001b[39;00m\n\u001b[0;32m   3783\u001b[0m \u001b[38;5;124;03m    key : label\u001b[39;00m\n\u001b[0;32m   3784\u001b[0m \n\u001b[0;32m   3785\u001b[0m \u001b[38;5;124;03m    Returns\u001b[39;00m\n\u001b[0;32m   3786\u001b[0m \u001b[38;5;124;03m    -------\u001b[39;00m\n\u001b[0;32m   3787\u001b[0m \u001b[38;5;124;03m    int if unique index, slice if monotonic index, else mask\u001b[39;00m\n\u001b[0;32m   3788\u001b[0m \n\u001b[0;32m   3789\u001b[0m \u001b[38;5;124;03m    Examples\u001b[39;00m\n\u001b[0;32m   3790\u001b[0m \u001b[38;5;124;03m    --------\u001b[39;00m\n\u001b[1;32m-> 3791\u001b[0m \u001b[38;5;124;03m    >>> unique_index = pd.Index(list('abc'))\u001b[39;00m\n\u001b[0;32m   3792\u001b[0m \u001b[38;5;124;03m    >>> unique_index.get_loc('b')\u001b[39;00m\n\u001b[0;32m   3793\u001b[0m \u001b[38;5;124;03m    1\u001b[39;00m\n\u001b[0;32m   3794\u001b[0m \n\u001b[0;32m   3795\u001b[0m \u001b[38;5;124;03m    >>> monotonic_index = pd.Index(list('abbc'))\u001b[39;00m\n\u001b[0;32m   3796\u001b[0m \u001b[38;5;124;03m    >>> monotonic_index.get_loc('b')\u001b[39;00m\n\u001b[0;32m   3797\u001b[0m \u001b[38;5;124;03m    slice(1, 3, None)\u001b[39;00m\n\u001b[0;32m   3798\u001b[0m \n\u001b[0;32m   3799\u001b[0m \u001b[38;5;124;03m    >>> non_monotonic_index = pd.Index(list('abcb'))\u001b[39;00m\n\u001b[0;32m   3800\u001b[0m \u001b[38;5;124;03m    >>> non_monotonic_index.get_loc('b')\u001b[39;00m\n\u001b[0;32m   3801\u001b[0m \u001b[38;5;124;03m    array([False,  True, False,  True])\u001b[39;00m\n\u001b[0;32m   3802\u001b[0m \u001b[38;5;124;03m    \"\"\"\u001b[39;00m\n\u001b[0;32m   3803\u001b[0m     casted_key \u001b[38;5;241m=\u001b[39m \u001b[38;5;28mself\u001b[39m\u001b[38;5;241m.\u001b[39m_maybe_cast_indexer(key)\n",
            "File \u001b[1;32mindex.pyx:152\u001b[0m, in \u001b[0;36mpandas._libs.index.IndexEngine.get_loc\u001b[1;34m()\u001b[0m\n",
            "File \u001b[1;32mindex.pyx:181\u001b[0m, in \u001b[0;36mpandas._libs.index.IndexEngine.get_loc\u001b[1;34m()\u001b[0m\n",
            "File \u001b[1;32mpandas\\_libs\\hashtable_class_helper.pxi:7080\u001b[0m, in \u001b[0;36mpandas._libs.hashtable.PyObjectHashTable.get_item\u001b[1;34m()\u001b[0m\n",
            "File \u001b[1;32mpandas\\_libs\\hashtable_class_helper.pxi:7088\u001b[0m, in \u001b[0;36mpandas._libs.hashtable.PyObjectHashTable.get_item\u001b[1;34m()\u001b[0m\n",
            "\u001b[1;31mKeyError\u001b[0m: 'GDP per capita'",
            "\nThe above exception was the direct cause of the following exception:\n",
            "\u001b[1;31mKeyError\u001b[0m                                  Traceback (most recent call last)",
            "Cell \u001b[1;32mIn[137], line 2\u001b[0m\n\u001b[0;32m      1\u001b[0m \u001b[38;5;66;03m# 7개 국가를 제외한 국가들의 데이터 산점도\u001b[39;00m\n\u001b[1;32m----> 2\u001b[0m sample_data\u001b[38;5;241m.\u001b[39mplot(kind\u001b[38;5;241m=\u001b[39m\u001b[38;5;124m'\u001b[39m\u001b[38;5;124mscatter\u001b[39m\u001b[38;5;124m'\u001b[39m, x\u001b[38;5;241m=\u001b[39m\u001b[38;5;124m\"\u001b[39m\u001b[38;5;124mGDP per capita\u001b[39m\u001b[38;5;124m\"\u001b[39m, y\u001b[38;5;241m=\u001b[39m\u001b[38;5;124m'\u001b[39m\u001b[38;5;124mLife satisfaction\u001b[39m\u001b[38;5;124m'\u001b[39m, figsize\u001b[38;5;241m=\u001b[39m(\u001b[38;5;241m5\u001b[39m,\u001b[38;5;241m3\u001b[39m))\n\u001b[0;32m      3\u001b[0m plt\u001b[38;5;241m.\u001b[39maxis([\u001b[38;5;241m0\u001b[39m, \u001b[38;5;241m60000\u001b[39m, \u001b[38;5;241m0\u001b[39m, \u001b[38;5;241m10\u001b[39m])\n\u001b[0;32m      5\u001b[0m \u001b[38;5;66;03m# 언급된 5개 국가명과 좌표\u001b[39;00m\n",
            "File \u001b[1;32mc:\\Users\\302-15\\anaconda3\\Lib\\site-packages\\pandas\\plotting\\_core.py:976\u001b[0m, in \u001b[0;36m__call__\u001b[1;34m(self, *args, **kwargs)\u001b[0m\n\u001b[0;32m    974\u001b[0m     if isinstance(data, ABCDataFrame):\n\u001b[0;32m    975\u001b[0m         return plot_backend.plot(data, x=x, y=y, kind=kind, **kwargs)\n\u001b[1;32m--> 976\u001b[0m     else:\n\u001b[0;32m    977\u001b[0m         raise ValueError(f\"plot kind {kind} can only be used for data frames\")\n\u001b[0;32m    978\u001b[0m elif kind in self._series_kinds:\n",
            "File \u001b[1;32mc:\\Users\\302-15\\anaconda3\\Lib\\site-packages\\pandas\\plotting\\_matplotlib\\__init__.py:71\u001b[0m, in \u001b[0;36mplot\u001b[1;34m(data, kind, **kwargs)\u001b[0m\n\u001b[0;32m     69\u001b[0m         kwargs[\u001b[38;5;124m\"\u001b[39m\u001b[38;5;124max\u001b[39m\u001b[38;5;124m\"\u001b[39m] \u001b[38;5;241m=\u001b[39m \u001b[38;5;28mgetattr\u001b[39m(ax, \u001b[38;5;124m\"\u001b[39m\u001b[38;5;124mleft_ax\u001b[39m\u001b[38;5;124m\"\u001b[39m, ax)\n\u001b[0;32m     70\u001b[0m plot_obj \u001b[38;5;241m=\u001b[39m PLOT_CLASSES[kind](data, \u001b[38;5;241m*\u001b[39m\u001b[38;5;241m*\u001b[39mkwargs)\n\u001b[1;32m---> 71\u001b[0m plot_obj\u001b[38;5;241m.\u001b[39mgenerate()\n\u001b[0;32m     72\u001b[0m plot_obj\u001b[38;5;241m.\u001b[39mdraw()\n\u001b[0;32m     73\u001b[0m \u001b[38;5;28;01mreturn\u001b[39;00m plot_obj\u001b[38;5;241m.\u001b[39mresult\n",
            "File \u001b[1;32mc:\\Users\\302-15\\anaconda3\\Lib\\site-packages\\pandas\\plotting\\_matplotlib\\core.py:453\u001b[0m, in \u001b[0;36mgenerate\u001b[1;34m(self)\u001b[0m\n\u001b[0;32m    451\u001b[0m if is_list_like(self.style):\n\u001b[0;32m    452\u001b[0m     styles = self.style\n\u001b[1;32m--> 453\u001b[0m else:\n\u001b[0;32m    454\u001b[0m     styles = [self.style]\n\u001b[0;32m    455\u001b[0m # need only a single match\n",
            "File \u001b[1;32mc:\\Users\\302-15\\anaconda3\\Lib\\site-packages\\pandas\\plotting\\_matplotlib\\core.py:1267\u001b[0m, in \u001b[0;36m_make_plot\u001b[1;34m(self)\u001b[0m\n\u001b[0;32m      0\u001b[0m <Error retrieving source code with stack_data see ipython/ipython#13598>\n",
            "File \u001b[1;32mc:\\Users\\302-15\\anaconda3\\Lib\\site-packages\\pandas\\core\\frame.py:3893\u001b[0m, in \u001b[0;36m__getitem__\u001b[1;34m(self, key)\u001b[0m\n\u001b[0;32m   3884\u001b[0m \u001b[38;5;28;01mif\u001b[39;00m copy \u001b[38;5;129;01mand\u001b[39;00m \u001b[38;5;129;01mnot\u001b[39;00m using_copy_on_write():\n\u001b[0;32m   3885\u001b[0m     new_vals \u001b[38;5;241m=\u001b[39m new_vals\u001b[38;5;241m.\u001b[39mcopy()\n\u001b[0;32m   3887\u001b[0m result \u001b[38;5;241m=\u001b[39m \u001b[38;5;28mself\u001b[39m\u001b[38;5;241m.\u001b[39m_constructor(\n\u001b[0;32m   3888\u001b[0m     new_vals,\n\u001b[0;32m   3889\u001b[0m     index\u001b[38;5;241m=\u001b[39m\u001b[38;5;28mself\u001b[39m\u001b[38;5;241m.\u001b[39mcolumns,\n\u001b[0;32m   3890\u001b[0m     columns\u001b[38;5;241m=\u001b[39m\u001b[38;5;28mself\u001b[39m\u001b[38;5;241m.\u001b[39mindex,\n\u001b[0;32m   3891\u001b[0m     copy\u001b[38;5;241m=\u001b[39m\u001b[38;5;28;01mFalse\u001b[39;00m,\n\u001b[0;32m   3892\u001b[0m     dtype\u001b[38;5;241m=\u001b[39mnew_vals\u001b[38;5;241m.\u001b[39mdtype,\n\u001b[1;32m-> 3893\u001b[0m )\n\u001b[0;32m   3894\u001b[0m \u001b[38;5;28;01mif\u001b[39;00m using_copy_on_write() \u001b[38;5;129;01mand\u001b[39;00m \u001b[38;5;28mlen\u001b[39m(\u001b[38;5;28mself\u001b[39m) \u001b[38;5;241m>\u001b[39m \u001b[38;5;241m0\u001b[39m:\n\u001b[0;32m   3895\u001b[0m     result\u001b[38;5;241m.\u001b[39m_mgr\u001b[38;5;241m.\u001b[39madd_references(\u001b[38;5;28mself\u001b[39m\u001b[38;5;241m.\u001b[39m_mgr)  \u001b[38;5;66;03m# type: ignore[arg-type]\u001b[39;00m\n",
            "File \u001b[1;32mc:\\Users\\302-15\\anaconda3\\Lib\\site-packages\\pandas\\core\\indexes\\base.py:3798\u001b[0m, in \u001b[0;36mget_loc\u001b[1;34m(self, key)\u001b[0m\n\u001b[0;32m   3777\u001b[0m \u001b[38;5;28;01mdef\u001b[39;00m \u001b[38;5;21mget_loc\u001b[39m(\u001b[38;5;28mself\u001b[39m, key):\n\u001b[0;32m   3778\u001b[0m \u001b[38;5;250m    \u001b[39m\u001b[38;5;124;03m\"\"\"\u001b[39;00m\n\u001b[0;32m   3779\u001b[0m \u001b[38;5;124;03m    Get integer location, slice or boolean mask for requested label.\u001b[39;00m\n\u001b[0;32m   3780\u001b[0m \n\u001b[0;32m   3781\u001b[0m \u001b[38;5;124;03m    Parameters\u001b[39;00m\n\u001b[0;32m   3782\u001b[0m \u001b[38;5;124;03m    ----------\u001b[39;00m\n\u001b[0;32m   3783\u001b[0m \u001b[38;5;124;03m    key : label\u001b[39;00m\n\u001b[0;32m   3784\u001b[0m \n\u001b[0;32m   3785\u001b[0m \u001b[38;5;124;03m    Returns\u001b[39;00m\n\u001b[0;32m   3786\u001b[0m \u001b[38;5;124;03m    -------\u001b[39;00m\n\u001b[0;32m   3787\u001b[0m \u001b[38;5;124;03m    int if unique index, slice if monotonic index, else mask\u001b[39;00m\n\u001b[0;32m   3788\u001b[0m \n\u001b[0;32m   3789\u001b[0m \u001b[38;5;124;03m    Examples\u001b[39;00m\n\u001b[0;32m   3790\u001b[0m \u001b[38;5;124;03m    --------\u001b[39;00m\n\u001b[0;32m   3791\u001b[0m \u001b[38;5;124;03m    >>> unique_index = pd.Index(list('abc'))\u001b[39;00m\n\u001b[0;32m   3792\u001b[0m \u001b[38;5;124;03m    >>> unique_index.get_loc('b')\u001b[39;00m\n\u001b[0;32m   3793\u001b[0m \u001b[38;5;124;03m    1\u001b[39;00m\n\u001b[0;32m   3794\u001b[0m \n\u001b[0;32m   3795\u001b[0m \u001b[38;5;124;03m    >>> monotonic_index = pd.Index(list('abbc'))\u001b[39;00m\n\u001b[0;32m   3796\u001b[0m \u001b[38;5;124;03m    >>> monotonic_index.get_loc('b')\u001b[39;00m\n\u001b[0;32m   3797\u001b[0m \u001b[38;5;124;03m    slice(1, 3, None)\u001b[39;00m\n\u001b[1;32m-> 3798\u001b[0m \n\u001b[0;32m   3799\u001b[0m \u001b[38;5;124;03m    >>> non_monotonic_index = pd.Index(list('abcb'))\u001b[39;00m\n\u001b[0;32m   3800\u001b[0m \u001b[38;5;124;03m    >>> non_monotonic_index.get_loc('b')\u001b[39;00m\n\u001b[0;32m   3801\u001b[0m \u001b[38;5;124;03m    array([False,  True, False,  True])\u001b[39;00m\n\u001b[0;32m   3802\u001b[0m \u001b[38;5;124;03m    \"\"\"\u001b[39;00m\n\u001b[0;32m   3803\u001b[0m     casted_key \u001b[38;5;241m=\u001b[39m \u001b[38;5;28mself\u001b[39m\u001b[38;5;241m.\u001b[39m_maybe_cast_indexer(key)\n\u001b[0;32m   3804\u001b[0m     \u001b[38;5;28;01mtry\u001b[39;00m:\n",
            "\u001b[1;31mKeyError\u001b[0m: 'GDP per capita'"
          ]
        },
        {
          "data": {
            "image/png": "[encoded data removed]",
            "text/plain": [
              "<Figure size 500x300 with 1 Axes>"
            ]
          },
          "metadata": {},
          "output_type": "display_data"
        }
      ],
      "source": [
        "# 7개 국가를 제외한 국가들의 데이터 산점도\n",
        "sample_data.plot(kind='scatter', x=\"GDP per capita\", y='Life satisfaction', figsize=(5,3))\n",
        "plt.axis([0, 60000, 0, 10])\n",
        "\n",
        "# 언급된 5개 국가명과 좌표\n",
        "position_text = {\n",
        "    \"Hungary\": (7000, 1),\n",
        "    \"Korea\": (24000, 1.7),\n",
        "    \"France\": (33000, 2.2),\n",
        "    \"Australia\": (43000, 2.7),\n",
        "    \"United States\": (52000, 3.8),\n",
        "}\n",
        "\n",
        "# 5개 국가는 좌표를 이용하여 빨강색 점으로 표기\n",
        "for country, pos_text in position_text.items():\n",
        "    pos_data_x, pos_data_y = sample_data.loc[country]            # 5개 국가의 지표\n",
        "\n",
        "    # 5개 국가명 표기\n",
        "    country = \"U.S.\" if country == \"United States\" else country  # 미국은 U.S. 로 표기\n",
        "\n",
        "    # 화살표 그리기\n",
        "    plt.annotate(country, xy=(pos_data_x, pos_data_y),\n",
        "                 xytext=pos_text,\n",
        "                 arrowprops=dict(facecolor='black', width=0.5, shrink=0.1, headwidth=5) )\n",
        "\n",
        "    # 5개 국가 산점도 그리기: 빨강색 점\n",
        "    plt.plot(pos_data_x, pos_data_y, \"ro\")\n",
        "\n",
        "# x 축 제목 새롭게 지정\n",
        "plt.xlabel(\"GDP per capita (USD)\")\n",
        "\n",
        "plt.show()"
      ]
    },
    {
      "cell_type": "markdown",
      "metadata": {
        "id": "0Y7UCwmlL-6W"
      },
      "source": [
        "언급된 5개 국가의 1인당 GDP와 삶의 만족도를 데이터에서 직접 확인하면 다음과 같다."
      ]
    },
    {
      "cell_type": "code",
      "execution_count": 162,
      "metadata": {
        "colab": {
          "base_uri": "https://localhost:8080/",
          "height": 237
        },
        "id": "jxhc5gBE9_WT",
        "outputId": "3e369d9f-af4e-41b3-9214-7dc93c75f391"
      },
      "outputs": [
        {
          "ename": "KeyError",
          "evalue": "\"['Australia'] not in index\"",
          "output_type": "error",
          "traceback": [
            "\u001b[1;31m---------------------------------------------------------------------------\u001b[0m",
            "\u001b[1;31mKeyError\u001b[0m                                  Traceback (most recent call last)",
            "Cell \u001b[1;32mIn[162], line 1\u001b[0m\n\u001b[1;32m----> 1\u001b[0m sample_data\u001b[38;5;241m.\u001b[39mloc[\u001b[38;5;28mlist\u001b[39m(position_text\u001b[38;5;241m.\u001b[39mkeys())]\n",
            "File \u001b[1;32mc:\\Users\\302-15\\anaconda3\\Lib\\site-packages\\pandas\\core\\indexing.py:1153\u001b[0m, in \u001b[0;36m__getitem__\u001b[1;34m(self, key)\u001b[0m\n\u001b[0;32m   1150\u001b[0m     axis \u001b[38;5;241m-\u001b[39m\u001b[38;5;241m=\u001b[39m \u001b[38;5;241m1\u001b[39m\n\u001b[0;32m   1151\u001b[0m     \u001b[38;5;28;01mcontinue\u001b[39;00m\n\u001b[1;32m-> 1153\u001b[0m obj \u001b[38;5;241m=\u001b[39m \u001b[38;5;28mgetattr\u001b[39m(obj, \u001b[38;5;28mself\u001b[39m\u001b[38;5;241m.\u001b[39mname)\u001b[38;5;241m.\u001b[39m_getitem_axis(key, axis\u001b[38;5;241m=\u001b[39maxis)\n\u001b[0;32m   1154\u001b[0m axis \u001b[38;5;241m-\u001b[39m\u001b[38;5;241m=\u001b[39m \u001b[38;5;241m1\u001b[39m\n\u001b[0;32m   1156\u001b[0m \u001b[38;5;66;03m# if we have a scalar, we are done\u001b[39;00m\n",
            "File \u001b[1;32mc:\\Users\\302-15\\anaconda3\\Lib\\site-packages\\pandas\\core\\indexing.py:1382\u001b[0m, in \u001b[0;36m_getitem_axis\u001b[1;34m(self, key, axis)\u001b[0m\n\u001b[0;32m      0\u001b[0m <Error retrieving source code with stack_data see ipython/ipython#13598>\n",
            "File \u001b[1;32mc:\\Users\\302-15\\anaconda3\\Lib\\site-packages\\pandas\\core\\indexing.py:1322\u001b[0m, in \u001b[0;36m_getitem_iterable\u001b[1;34m(self, key, axis)\u001b[0m\n\u001b[0;32m   1309\u001b[0m \u001b[38;5;28;01mdef\u001b[39;00m \u001b[38;5;21m_multi_take\u001b[39m(\u001b[38;5;28mself\u001b[39m, tup: \u001b[38;5;28mtuple\u001b[39m):\n\u001b[0;32m   1310\u001b[0m \u001b[38;5;250m    \u001b[39m\u001b[38;5;124;03m\"\"\"\u001b[39;00m\n\u001b[0;32m   1311\u001b[0m \u001b[38;5;124;03m    Create the indexers for the passed tuple of keys, and\u001b[39;00m\n\u001b[0;32m   1312\u001b[0m \u001b[38;5;124;03m    executes the take operation. This allows the take operation to be\u001b[39;00m\n\u001b[0;32m   1313\u001b[0m \u001b[38;5;124;03m    executed all at once, rather than once for each dimension.\u001b[39;00m\n\u001b[0;32m   1314\u001b[0m \u001b[38;5;124;03m    Improving efficiency.\u001b[39;00m\n\u001b[0;32m   1315\u001b[0m \n\u001b[0;32m   1316\u001b[0m \u001b[38;5;124;03m    Parameters\u001b[39;00m\n\u001b[0;32m   1317\u001b[0m \u001b[38;5;124;03m    ----------\u001b[39;00m\n\u001b[0;32m   1318\u001b[0m \u001b[38;5;124;03m    tup : tuple\u001b[39;00m\n\u001b[0;32m   1319\u001b[0m \u001b[38;5;124;03m        Tuple of indexers, one per axis.\u001b[39;00m\n\u001b[0;32m   1320\u001b[0m \n\u001b[0;32m   1321\u001b[0m \u001b[38;5;124;03m    Returns\u001b[39;00m\n\u001b[1;32m-> 1322\u001b[0m \u001b[38;5;124;03m    -------\u001b[39;00m\n\u001b[0;32m   1323\u001b[0m \u001b[38;5;124;03m    values: same type as the object being indexed\u001b[39;00m\n\u001b[0;32m   1324\u001b[0m \u001b[38;5;124;03m    \"\"\"\u001b[39;00m\n\u001b[0;32m   1325\u001b[0m     \u001b[38;5;66;03m# GH 836\u001b[39;00m\n\u001b[0;32m   1326\u001b[0m     d \u001b[38;5;241m=\u001b[39m {\n\u001b[0;32m   1327\u001b[0m         axis: \u001b[38;5;28mself\u001b[39m\u001b[38;5;241m.\u001b[39m_get_listlike_indexer(key, axis)\n\u001b[0;32m   1328\u001b[0m         \u001b[38;5;28;01mfor\u001b[39;00m (key, axis) \u001b[38;5;129;01min\u001b[39;00m \u001b[38;5;28mzip\u001b[39m(tup, \u001b[38;5;28mself\u001b[39m\u001b[38;5;241m.\u001b[39mobj\u001b[38;5;241m.\u001b[39m_AXIS_ORDERS)\n\u001b[0;32m   1329\u001b[0m     }\n",
            "File \u001b[1;32mc:\\Users\\302-15\\anaconda3\\Lib\\site-packages\\pandas\\core\\indexing.py:1520\u001b[0m, in \u001b[0;36m_get_listlike_indexer\u001b[1;34m(self, key, axis)\u001b[0m\n\u001b[0;32m   1518\u001b[0m \u001b[38;5;28;01mif\u001b[39;00m com\u001b[38;5;241m.\u001b[39mis_bool_indexer(key):\n\u001b[0;32m   1519\u001b[0m     key \u001b[38;5;241m=\u001b[39m check_bool_indexer(labels, key)\n\u001b[1;32m-> 1520\u001b[0m     \u001b[38;5;28;01mreturn\u001b[39;00m key\n\u001b[0;32m   1521\u001b[0m \u001b[38;5;28;01melse\u001b[39;00m:\n\u001b[0;32m   1522\u001b[0m     \u001b[38;5;28;01mreturn\u001b[39;00m \u001b[38;5;28mself\u001b[39m\u001b[38;5;241m.\u001b[39m_get_listlike_indexer(key, axis)[\u001b[38;5;241m1\u001b[39m]\n",
            "File \u001b[1;32mc:\\Users\\302-15\\anaconda3\\Lib\\site-packages\\pandas\\core\\indexes\\base.py:6115\u001b[0m, in \u001b[0;36m_get_indexer_strict\u001b[1;34m(self, key, axis_name)\u001b[0m\n\u001b[0;32m   6063\u001b[0m \u001b[38;5;250m    \u001b[39m\u001b[38;5;124;03m\"\"\"\u001b[39;00m\n\u001b[0;32m   6064\u001b[0m \u001b[38;5;124;03m    Should an integer key be treated as positional?\u001b[39;00m\n\u001b[0;32m   6065\u001b[0m \u001b[38;5;124;03m    \"\"\"\u001b[39;00m\n\u001b[0;32m   6066\u001b[0m     \u001b[38;5;28;01mreturn\u001b[39;00m \u001b[38;5;28mself\u001b[39m\u001b[38;5;241m.\u001b[39minferred_type \u001b[38;5;129;01mnot\u001b[39;00m \u001b[38;5;129;01min\u001b[39;00m {\n\u001b[0;32m   6067\u001b[0m         \u001b[38;5;124m\"\u001b[39m\u001b[38;5;124minteger\u001b[39m\u001b[38;5;124m\"\u001b[39m,\n\u001b[0;32m   6068\u001b[0m         \u001b[38;5;124m\"\u001b[39m\u001b[38;5;124mmixed-integer\u001b[39m\u001b[38;5;124m\"\u001b[39m,\n\u001b[0;32m   6069\u001b[0m         \u001b[38;5;124m\"\u001b[39m\u001b[38;5;124mfloating\u001b[39m\u001b[38;5;124m\"\u001b[39m,\n\u001b[0;32m   6070\u001b[0m         \u001b[38;5;124m\"\u001b[39m\u001b[38;5;124mcomplex\u001b[39m\u001b[38;5;124m\"\u001b[39m,\n\u001b[0;32m   6071\u001b[0m     }\n\u001b[0;32m   6073\u001b[0m _index_shared_docs[\n\u001b[0;32m   6074\u001b[0m     \u001b[38;5;124m\"\u001b[39m\u001b[38;5;124mget_indexer_non_unique\u001b[39m\u001b[38;5;124m\"\u001b[39m\n\u001b[0;32m   6075\u001b[0m ] \u001b[38;5;241m=\u001b[39m \u001b[38;5;124m\"\"\"\u001b[39m\n\u001b[0;32m   6076\u001b[0m \u001b[38;5;124m    Compute indexer and mask for new index given the current index.\u001b[39m\n\u001b[0;32m   6077\u001b[0m \n\u001b[0;32m   6078\u001b[0m \u001b[38;5;124m    The indexer should be then used as an input to ndarray.take to align the\u001b[39m\n\u001b[0;32m   6079\u001b[0m \u001b[38;5;124m    current data to the new index.\u001b[39m\n\u001b[0;32m   6080\u001b[0m \n\u001b[0;32m   6081\u001b[0m \u001b[38;5;124m    Parameters\u001b[39m\n\u001b[0;32m   6082\u001b[0m \u001b[38;5;124m    ----------\u001b[39m\n\u001b[0;32m   6083\u001b[0m \u001b[38;5;124m    target : \u001b[39m\u001b[38;5;132;01m%(target_klass)s\u001b[39;00m\n\u001b[0;32m   6084\u001b[0m \n\u001b[0;32m   6085\u001b[0m \u001b[38;5;124m    Returns\u001b[39m\n\u001b[0;32m   6086\u001b[0m \u001b[38;5;124m    -------\u001b[39m\n\u001b[0;32m   6087\u001b[0m \u001b[38;5;124m    indexer : np.ndarray[np.intp]\u001b[39m\n\u001b[0;32m   6088\u001b[0m \u001b[38;5;124m        Integers from 0 to n - 1 indicating that the index at these\u001b[39m\n\u001b[0;32m   6089\u001b[0m \u001b[38;5;124m        positions matches the corresponding target values. Missing values\u001b[39m\n\u001b[0;32m   6090\u001b[0m \u001b[38;5;124m        in the target are marked by -1.\u001b[39m\n\u001b[0;32m   6091\u001b[0m \u001b[38;5;124m    missing : np.ndarray[np.intp]\u001b[39m\n\u001b[0;32m   6092\u001b[0m \u001b[38;5;124m        An indexer into the target of the values not found.\u001b[39m\n\u001b[0;32m   6093\u001b[0m \u001b[38;5;124m        These correspond to the -1 in the indexer array.\u001b[39m\n\u001b[0;32m   6094\u001b[0m \n\u001b[0;32m   6095\u001b[0m \u001b[38;5;124m    Examples\u001b[39m\n\u001b[0;32m   6096\u001b[0m \u001b[38;5;124m    --------\u001b[39m\n\u001b[0;32m   6097\u001b[0m \u001b[38;5;124m    >>> index = pd.Index([\u001b[39m\u001b[38;5;124m'\u001b[39m\u001b[38;5;124mc\u001b[39m\u001b[38;5;124m'\u001b[39m\u001b[38;5;124m, \u001b[39m\u001b[38;5;124m'\u001b[39m\u001b[38;5;124mb\u001b[39m\u001b[38;5;124m'\u001b[39m\u001b[38;5;124m, \u001b[39m\u001b[38;5;124m'\u001b[39m\u001b[38;5;124ma\u001b[39m\u001b[38;5;124m'\u001b[39m\u001b[38;5;124m, \u001b[39m\u001b[38;5;124m'\u001b[39m\u001b[38;5;124mb\u001b[39m\u001b[38;5;124m'\u001b[39m\u001b[38;5;124m, \u001b[39m\u001b[38;5;124m'\u001b[39m\u001b[38;5;124mb\u001b[39m\u001b[38;5;124m'\u001b[39m\u001b[38;5;124m])\u001b[39m\n\u001b[0;32m   6098\u001b[0m \u001b[38;5;124m    >>> index.get_indexer_non_unique([\u001b[39m\u001b[38;5;124m'\u001b[39m\u001b[38;5;124mb\u001b[39m\u001b[38;5;124m'\u001b[39m\u001b[38;5;124m, \u001b[39m\u001b[38;5;124m'\u001b[39m\u001b[38;5;124mb\u001b[39m\u001b[38;5;124m'\u001b[39m\u001b[38;5;124m])\u001b[39m\n\u001b[0;32m   6099\u001b[0m \u001b[38;5;124m    (array([1, 3, 4, 1, 3, 4]), array([], dtype=int64))\u001b[39m\n\u001b[0;32m   6100\u001b[0m \n\u001b[0;32m   6101\u001b[0m \u001b[38;5;124m    In the example below there are no matched values.\u001b[39m\n\u001b[0;32m   6102\u001b[0m \n\u001b[0;32m   6103\u001b[0m \u001b[38;5;124m    >>> index = pd.Index([\u001b[39m\u001b[38;5;124m'\u001b[39m\u001b[38;5;124mc\u001b[39m\u001b[38;5;124m'\u001b[39m\u001b[38;5;124m, \u001b[39m\u001b[38;5;124m'\u001b[39m\u001b[38;5;124mb\u001b[39m\u001b[38;5;124m'\u001b[39m\u001b[38;5;124m, \u001b[39m\u001b[38;5;124m'\u001b[39m\u001b[38;5;124ma\u001b[39m\u001b[38;5;124m'\u001b[39m\u001b[38;5;124m, \u001b[39m\u001b[38;5;124m'\u001b[39m\u001b[38;5;124mb\u001b[39m\u001b[38;5;124m'\u001b[39m\u001b[38;5;124m, \u001b[39m\u001b[38;5;124m'\u001b[39m\u001b[38;5;124mb\u001b[39m\u001b[38;5;124m'\u001b[39m\u001b[38;5;124m])\u001b[39m\n\u001b[0;32m   6104\u001b[0m \u001b[38;5;124m    >>> index.get_indexer_non_unique([\u001b[39m\u001b[38;5;124m'\u001b[39m\u001b[38;5;124mq\u001b[39m\u001b[38;5;124m'\u001b[39m\u001b[38;5;124m, \u001b[39m\u001b[38;5;124m'\u001b[39m\u001b[38;5;124mr\u001b[39m\u001b[38;5;124m'\u001b[39m\u001b[38;5;124m, \u001b[39m\u001b[38;5;124m'\u001b[39m\u001b[38;5;124mt\u001b[39m\u001b[38;5;124m'\u001b[39m\u001b[38;5;124m])\u001b[39m\n\u001b[0;32m   6105\u001b[0m \u001b[38;5;124m    (array([-1, -1, -1]), array([0, 1, 2]))\u001b[39m\n\u001b[0;32m   6106\u001b[0m \n\u001b[0;32m   6107\u001b[0m \u001b[38;5;124m    For this reason, the returned ``indexer`` contains only integers equal to -1.\u001b[39m\n\u001b[0;32m   6108\u001b[0m \u001b[38;5;124m    It demonstrates that there\u001b[39m\u001b[38;5;124m'\u001b[39m\u001b[38;5;124ms no match between the index and the ``target``\u001b[39m\n\u001b[0;32m   6109\u001b[0m \u001b[38;5;124m    values at these positions. The mask [0, 1, 2] in the return value shows that\u001b[39m\n\u001b[0;32m   6110\u001b[0m \u001b[38;5;124m    the first, second, and third elements are missing.\u001b[39m\n\u001b[0;32m   6111\u001b[0m \n\u001b[0;32m   6112\u001b[0m \u001b[38;5;124m    Notice that the return value is a tuple contains two items. In the example\u001b[39m\n\u001b[0;32m   6113\u001b[0m \u001b[38;5;124m    below the first item is an array of locations in ``index``. The second\u001b[39m\n\u001b[0;32m   6114\u001b[0m \u001b[38;5;124m    item is a mask shows that the first and third elements are missing.\u001b[39m\n\u001b[1;32m-> 6115\u001b[0m \n\u001b[0;32m   6116\u001b[0m \u001b[38;5;124m    >>> index = pd.Index([\u001b[39m\u001b[38;5;124m'\u001b[39m\u001b[38;5;124mc\u001b[39m\u001b[38;5;124m'\u001b[39m\u001b[38;5;124m, \u001b[39m\u001b[38;5;124m'\u001b[39m\u001b[38;5;124mb\u001b[39m\u001b[38;5;124m'\u001b[39m\u001b[38;5;124m, \u001b[39m\u001b[38;5;124m'\u001b[39m\u001b[38;5;124ma\u001b[39m\u001b[38;5;124m'\u001b[39m\u001b[38;5;124m, \u001b[39m\u001b[38;5;124m'\u001b[39m\u001b[38;5;124mb\u001b[39m\u001b[38;5;124m'\u001b[39m\u001b[38;5;124m, \u001b[39m\u001b[38;5;124m'\u001b[39m\u001b[38;5;124mb\u001b[39m\u001b[38;5;124m'\u001b[39m\u001b[38;5;124m])\u001b[39m\n\u001b[0;32m   6117\u001b[0m \u001b[38;5;124m    >>> index.get_indexer_non_unique([\u001b[39m\u001b[38;5;124m'\u001b[39m\u001b[38;5;124mf\u001b[39m\u001b[38;5;124m'\u001b[39m\u001b[38;5;124m, \u001b[39m\u001b[38;5;124m'\u001b[39m\u001b[38;5;124mb\u001b[39m\u001b[38;5;124m'\u001b[39m\u001b[38;5;124m, \u001b[39m\u001b[38;5;124m'\u001b[39m\u001b[38;5;124ms\u001b[39m\u001b[38;5;124m'\u001b[39m\u001b[38;5;124m])\u001b[39m\n\u001b[0;32m   6118\u001b[0m \u001b[38;5;124m    (array([-1,  1,  3,  4, -1]), array([0, 2]))\u001b[39m\n\u001b[0;32m   6119\u001b[0m \u001b[38;5;124m    \u001b[39m\u001b[38;5;124m\"\"\"\u001b[39m\n\u001b[0;32m   6121\u001b[0m \u001b[38;5;129m@Appender\u001b[39m(_index_shared_docs[\u001b[38;5;124m\"\u001b[39m\u001b[38;5;124mget_indexer_non_unique\u001b[39m\u001b[38;5;124m\"\u001b[39m] \u001b[38;5;241m%\u001b[39m _index_doc_kwargs)\n\u001b[0;32m   6122\u001b[0m \u001b[38;5;28;01mdef\u001b[39;00m \u001b[38;5;21mget_indexer_non_unique\u001b[39m(\n\u001b[0;32m   6123\u001b[0m     \u001b[38;5;28mself\u001b[39m, target\n\u001b[0;32m   6124\u001b[0m ) \u001b[38;5;241m-\u001b[39m\u001b[38;5;241m>\u001b[39m \u001b[38;5;28mtuple\u001b[39m[npt\u001b[38;5;241m.\u001b[39mNDArray[np\u001b[38;5;241m.\u001b[39mintp], npt\u001b[38;5;241m.\u001b[39mNDArray[np\u001b[38;5;241m.\u001b[39mintp]]:\n\u001b[0;32m   6125\u001b[0m     target \u001b[38;5;241m=\u001b[39m ensure_index(target)\n",
            "File \u001b[1;32mc:\\Users\\302-15\\anaconda3\\Lib\\site-packages\\pandas\\core\\indexes\\base.py:6179\u001b[0m, in \u001b[0;36m_raise_if_missing\u001b[1;34m(self, key, indexer, axis_name)\u001b[0m\n\u001b[0;32m   6162\u001b[0m \u001b[38;5;129m@final\u001b[39m\n\u001b[0;32m   6163\u001b[0m \u001b[38;5;28;01mdef\u001b[39;00m \u001b[38;5;21mget_indexer_for\u001b[39m(\u001b[38;5;28mself\u001b[39m, target) \u001b[38;5;241m-\u001b[39m\u001b[38;5;241m>\u001b[39m npt\u001b[38;5;241m.\u001b[39mNDArray[np\u001b[38;5;241m.\u001b[39mintp]:\n\u001b[0;32m   6164\u001b[0m \u001b[38;5;250m    \u001b[39m\u001b[38;5;124;03m\"\"\"\u001b[39;00m\n\u001b[0;32m   6165\u001b[0m \u001b[38;5;124;03m    Guaranteed return of an indexer even when non-unique.\u001b[39;00m\n\u001b[0;32m   6166\u001b[0m \n\u001b[0;32m   6167\u001b[0m \u001b[38;5;124;03m    This dispatches to get_indexer or get_indexer_non_unique\u001b[39;00m\n\u001b[0;32m   6168\u001b[0m \u001b[38;5;124;03m    as appropriate.\u001b[39;00m\n\u001b[0;32m   6169\u001b[0m \n\u001b[0;32m   6170\u001b[0m \u001b[38;5;124;03m    Returns\u001b[39;00m\n\u001b[0;32m   6171\u001b[0m \u001b[38;5;124;03m    -------\u001b[39;00m\n\u001b[0;32m   6172\u001b[0m \u001b[38;5;124;03m    np.ndarray[np.intp]\u001b[39;00m\n\u001b[0;32m   6173\u001b[0m \u001b[38;5;124;03m        List of indices.\u001b[39;00m\n\u001b[0;32m   6174\u001b[0m \n\u001b[0;32m   6175\u001b[0m \u001b[38;5;124;03m    Examples\u001b[39;00m\n\u001b[0;32m   6176\u001b[0m \u001b[38;5;124;03m    --------\u001b[39;00m\n\u001b[0;32m   6177\u001b[0m \u001b[38;5;124;03m    >>> idx = pd.Index([np.nan, 'var1', np.nan])\u001b[39;00m\n\u001b[0;32m   6178\u001b[0m \u001b[38;5;124;03m    >>> idx.get_indexer_for([np.nan])\u001b[39;00m\n\u001b[1;32m-> 6179\u001b[0m \u001b[38;5;124;03m    array([0, 2])\u001b[39;00m\n\u001b[0;32m   6180\u001b[0m \u001b[38;5;124;03m    \"\"\"\u001b[39;00m\n\u001b[0;32m   6181\u001b[0m     \u001b[38;5;28;01mif\u001b[39;00m \u001b[38;5;28mself\u001b[39m\u001b[38;5;241m.\u001b[39m_index_as_unique:\n\u001b[0;32m   6182\u001b[0m         \u001b[38;5;28;01mreturn\u001b[39;00m \u001b[38;5;28mself\u001b[39m\u001b[38;5;241m.\u001b[39mget_indexer(target)\n",
            "\u001b[1;31mKeyError\u001b[0m: \"['Australia'] not in index\""
          ]
        }
      ],
      "source": [
        "sample_data.loc[list(position_text.keys())]"
      ]
    },
    {
      "cell_type": "markdown",
      "metadata": {
        "id": "NVga35bvM9Te"
      },
      "source": [
        "위 산점도에 따르면 1인당 GDP와 삶의 만족도가 어느 정도 선형 관계에 있는 것처럼 보인다."
      ]
    },
    {
      "cell_type": "markdown",
      "metadata": {
        "id": "LS4IcHjtC1KV"
      },
      "source": [
        "#### 선형 회귀 모델"
      ]
    },
    {
      "cell_type": "markdown",
      "metadata": {
        "id": "uxkg3Jfl_iQR"
      },
      "source": [
        "직선처럼 y 축의 값이 x 축의 값에 선형적으로 의존하는 관계를 __선형관계__라 하며,\n",
        "그런 선형관계를 함수로 구현하는 모델을 __선형 회귀 모델__(linear regression model)이라 한다.\n",
        "선형 회귀 모델은 직선을 나타내는 1차 함수의 그래프로 표현되며,\n",
        "직선은 절편(y축과 만나는 점)과 기울기 두 개의 값에 의해 정해진다.\n",
        "\n",
        "예를 들어, 1인당 GDP와 삶의 만족도 사이에 다음 선형 관계가 성립하도록 하는\n",
        "절편 $\\theta_0$ 와 기울기 $\\theta_1$ 을 구해야 한다.\n",
        "\n",
        "$$\n",
        "\\text{삶의만족도} = \\theta_0 + (\\text{1인당GDP}) \\cdot \\theta_1\n",
        "$$\n",
        "\n",
        "$\\theta_0$ 와 $\\theta_1$ 처럼 모델 구현에 사용되는 값들을 모델의\n",
        "__파라미터__<font size=\"2\">parameter</font>라 하며,\n",
        "모델의 파라미터를 찾아내는 것이 머신러닝 모델훈련의 핵심이다."
      ]
    },
    {
      "cell_type": "markdown",
      "metadata": {
        "id": "3v8aDUqzC1KV"
      },
      "source": [
        "#### 사이킷런 라이브러리 활용"
      ]
    },
    {
      "cell_type": "markdown",
      "metadata": {
        "id": "ED7LDUNPC1KV"
      },
      "source": [
        "**사이킷런**<font size=\"2\">scikit-learn</font> 라이브러리는 머신러닝에서 사용되는\n",
        "다양한 모델을 제공한다.\n",
        "선형 회귀의 경우 `LinearRegression` 클래스의 객체를 생성하여 훈련시키면\n",
        "최적의 절편과 기울기를 계산해준다.\n",
        "\n",
        "사이킷런의 모델을 지정하고 훈련시키는 과정은 다음과 같다."
      ]
    },
    {
      "cell_type": "markdown",
      "metadata": {
        "id": "lemUrEeCC1KV"
      },
      "source": [
        "**과정 1: 모델 지정**"
      ]
    },
    {
      "cell_type": "markdown",
      "metadata": {
        "id": "JOYxSxCsC1KV"
      },
      "source": [
        "사이킷런(sklearn) 패키지의 `linear_model` 모듈에 포함된 `LinearRegression` 클래스의 객체를 선언한다.\n",
        "선언된 모델은 아직 어떤 훈련도 하지 않은 상태이다."
      ]
    },
    {
      "cell_type": "code",
      "execution_count": null,
      "metadata": {
        "id": "6qm6yOoSfLIk"
      },
      "outputs": [],
      "source": []
    },
    {
      "cell_type": "markdown",
      "metadata": {
        "id": "ules_1NqC1KV"
      },
      "source": [
        "**과정 2: 훈련 셋 지정**"
      ]
    },
    {
      "cell_type": "markdown",
      "metadata": {
        "id": "W_bSUmD7C1KV"
      },
      "source": [
        "입력 데이터 셋은 x 축에, 타깃 데이터 셋은 y 축에 해당한다.\n",
        "\n",
        "* 입력 데이터: 1인당 GDP\n",
        "* 타깃 데이터: 삶의 만족도\n",
        "\n",
        "입력 데이터와 타깃 데이터를 2차원 어레이로 지정한다.\n",
        "사이킷런의 선형 회귀 모델이 2차원 어레이 형식의 입력 데이터 셋과 타깃 데이터 셋을 요구한다.\n",
        "넘파이의 `c_` 함수를 활용해서 차원을 늘려준다."
      ]
    },
    {
      "cell_type": "code",
      "execution_count": null,
      "metadata": {
        "id": "xTDMw7JxC1KV"
      },
      "outputs": [],
      "source": [
        "Xsample = np.c_[sample_data[\"GDP per capita\"]]\n",
        "ysample = np.c_[sample_data[\"Life satisfaction\"]]\n",
        "Xsample.shape, ysample.shape"
      ]
    },
    {
      "cell_type": "markdown",
      "metadata": {
        "id": "jNiN1SrnC1KV"
      },
      "source": [
        "변환 전의 처음 5개 데이터는 다음과 같다."
      ]
    },
    {
      "cell_type": "code",
      "execution_count": null,
      "metadata": {
        "colab": {
          "base_uri": "https://localhost:8080/"
        },
        "id": "cqt1nCk_C1KV",
        "outputId": "026ec16a-bb3e-43a2-8363-74e4e79d8330"
      },
      "outputs": [],
      "source": [
        "np.array(sample_data[\"GDP per capita\"][:5])"
      ]
    },
    {
      "cell_type": "markdown",
      "metadata": {
        "id": "0-3U4tPyC1KW"
      },
      "source": [
        "2차원 어레이로 변환 된 입력 데이터의 처음 5개는 다음과 같다."
      ]
    },
    {
      "cell_type": "code",
      "execution_count": null,
      "metadata": {
        "colab": {
          "base_uri": "https://localhost:8080/"
        },
        "id": "mAlM7NrSC1KW",
        "outputId": "7ef69a22-c4f8-46de-e5cc-ccf4bb8de70e"
      },
      "outputs": [],
      "source": [
        "Xsample[:5]"
      ]
    },
    {
      "cell_type": "markdown",
      "metadata": {
        "id": "tjA22Fe9C1KW"
      },
      "source": [
        "타깃 데이터 또한 마찬가지이다."
      ]
    },
    {
      "cell_type": "code",
      "execution_count": null,
      "metadata": {
        "colab": {
          "base_uri": "https://localhost:8080/"
        },
        "id": "wf3WxaLuC1KW",
        "outputId": "07220adf-d56f-4404-c420-85baf82e7e4a"
      },
      "outputs": [],
      "source": [
        "ysample[:5]"
      ]
    },
    {
      "cell_type": "markdown",
      "metadata": {
        "id": "MAmH2wdHC1KW"
      },
      "source": [
        "**과정 3: 모델 훈련**"
      ]
    },
    {
      "cell_type": "markdown",
      "metadata": {
        "id": "nE_pE-5OC1KW"
      },
      "source": [
        "\n",
        "선형 모델의 `fit()` 메서드를 지정된 입력 데이터 셋과 타깃 터이터 셋을\n",
        "인자로 사용해서 호출하면\n",
        "최적의 $\\theta_0$와 $\\theta_1$ 파라미터를 찾는 훈련이 실행되며\n",
        "훈련이 종료되면 최적의 파라미터가 업데이트된 객체 자신이 반환된다."
      ]
    },
    {
      "cell_type": "code",
      "execution_count": null,
      "metadata": {
        "colab": {
          "base_uri": "https://localhost:8080/",
          "height": 74
        },
        "id": "C9gwkz25C1KW",
        "outputId": "3cc4ffdd-05dd-4463-870c-1cf709e70932"
      },
      "outputs": [],
      "source": [
        "lin1.fit(Xsample, ysample)"
      ]
    },
    {
      "cell_type": "markdown",
      "metadata": {
        "id": "SVr4kbIcC1KW"
      },
      "source": [
        "훈련된 모델이 알아낸 최적 선형 모델의 절편과 기울기는 아래 두 속성에 저장된다.\n",
        "\n",
        "* `intercept_[0]`: 직선의 절편\n",
        "* `coef_[0]`: 직선의 기울기"
      ]
    },
    {
      "cell_type": "code",
      "execution_count": null,
      "metadata": {
        "colab": {
          "base_uri": "https://localhost:8080/"
        },
        "id": "gK4XWEYdC1KW",
        "outputId": "01e3a90b-7197-46a7-d657-8d112b1e7be2"
      },
      "outputs": [],
      "source": [
        "t0, t1 = lin1.intercept_[0], lin1.coef_[0][0]\n",
        "\n",
        "print(f\"절편:\\t {t0}\")\n",
        "print(f\"기울기:\\t {t1}\")"
      ]
    },
    {
      "cell_type": "markdown",
      "metadata": {
        "id": "ib2Rs7KsAn9j"
      },
      "source": [
        "구해진 기울기와 절편을 이용하여 산점도와 함께 직선을 그리면 다음과 같다."
      ]
    },
    {
      "cell_type": "code",
      "execution_count": null,
      "metadata": {
        "colab": {
          "base_uri": "https://localhost:8080/",
          "height": 321
        },
        "id": "GM3jaIv1fLIl",
        "outputId": "90fd7dad-0368-44db-8a6a-1feaaebb4250"
      },
      "outputs": [],
      "source": [
        "# 산점도\n",
        "sample_data.plot(kind='scatter', x=\"GDP per capita\", y='Life satisfaction', figsize=(5,3))\n",
        "plt.xlabel(\"GDP per capita (USD)\")\n",
        "plt.axis([0, 60000, 0, 10])\n",
        "\n",
        "# 직선 그리기\n",
        "X=np.linspace(0, 60000, 1000)\n",
        "plt.plot(X, t0 + t1*X, \"b\")\n",
        "\n",
        "# 직선의 절편과 기울기 정보 명시\n",
        "plt.text(5000, 3.1, r\"$\\theta_0 = 4.85$\", fontsize=14, color=\"b\")\n",
        "plt.text(5000, 2.2, r\"$\\theta_1 = 4.91 \\times 10^{-5}$\", fontsize=14, color=\"b\")\n",
        "\n",
        "plt.show()"
      ]
    },
    {
      "cell_type": "markdown",
      "metadata": {
        "id": "ot5QhLe0BR5w"
      },
      "source": [
        "### 6단계: 모델 활용"
      ]
    },
    {
      "cell_type": "markdown",
      "metadata": {
        "id": "fnq-t9qZBZd-"
      },
      "source": [
        "한 국가의 1인당 GDP가 알려졌을 때\n",
        "훈련된 모델에 포함된 $\\theta_0$ 와 $\\theta_1$ 을 이용하여\n",
        "해당 국가의 삶의 만족도를 예측한다.\n",
        "예를 들어, OECD에 속하지 않는 베트남(Vietnam)의 1인당 GDP를 이용하여\n",
        "베트남 국민의 삶의 만족도를 예측한다."
      ]
    },
    {
      "cell_type": "code",
      "execution_count": null,
      "metadata": {
        "id": "nhnfS8jQfLIl"
      },
      "outputs": [],
      "source": [
        "# vietnam_gdp_per_capita_2015 = gdp_per_capita_2015.loc[\"Vietnam\"][\"GDP per capita\"]\n",
        "\n",
        "vietnam_gdp_per_capita_2015 = 2088.344"
      ]
    },
    {
      "cell_type": "markdown",
      "metadata": {
        "id": "11KnQQmKCbQq"
      },
      "source": [
        "훈련된 모델의 `predict()` 메서드가 아래 식을 이용하여 삶의 만족도를 계산한다.\n",
        "\n",
        "$$\n",
        "\\theta_0 + (\\text{1인당GDP}) \\cdot \\theta_1\n",
        "$$\n",
        "\n",
        "베트남 국민의 삶의 만족도는 4.96 정도로 예측된다."
      ]
    },
    {
      "cell_type": "code",
      "execution_count": null,
      "metadata": {
        "colab": {
          "base_uri": "https://localhost:8080/"
        },
        "id": "a_dU9MTwB72q",
        "outputId": "17750af6-5884-4a12-959e-4f8c69a8e669"
      },
      "outputs": [],
      "source": [
        "lin1.predict([[vietnam_gdp_per_capita_2015]])"
      ]
    },
    {
      "cell_type": "markdown",
      "metadata": {
        "id": "cM8uoKc_GE-X"
      },
      "source": [
        "결과가 2차원 어레이로 표현됨에 주의한다.\n",
        "이는 `predict()` 메서드가 여러 개의 입력값에 대해 동시에 예측값을 계산하기 때문이다.\n",
        "위 코드에서는 한 개의 입력값에 대한 예측값인 `[4.95562275]`를 계산하였다.\n",
        "\n",
        "이 예측값 또한 1차원 어레이로 표시된 이유는 머신러닝 모델은 기본적으로 하나의 입력값에 대해\n",
        "여러 종류의 예측값을 계산하기 때문이다.\n",
        "그리고 여기서는 삶의 만족도 한 종류의 값만 예측하기 때문이 길이가 1인 어레이가 계산되었다.\n",
        "따라서 베트남의 1인당 GDP는 인덱싱으로 바로 확인된다."
      ]
    },
    {
      "cell_type": "code",
      "execution_count": null,
      "metadata": {
        "colab": {
          "base_uri": "https://localhost:8080/"
        },
        "id": "OBcmBbJAGE-X",
        "outputId": "17750af6-5884-4a12-959e-4f8c69a8e669"
      },
      "outputs": [],
      "source": [
        "vietnam_predicted_life_satisfaction = lin1.predict([[vietnam_gdp_per_capita_2015]])[0, 0]\n",
        "\n",
        "print(\"베트남 삶의 만족도:\", vietnam_predicted_life_satisfaction)"
      ]
    },
    {
      "cell_type": "markdown",
      "metadata": {
        "id": "tseGO4MOh3ZX"
      },
      "source": [
        "## 머신러닝의 모델 훈련의 어려움"
      ]
    },
    {
      "cell_type": "markdown",
      "metadata": {
        "id": "Eh3SL2kpC1KX"
      },
      "source": [
        "머신러닝 알고리즘을 훈련시키다보면 다양한 어려움에 부딪힌다.\n",
        "여기서는 선형 회귀 모델이 훈련셋에 민감하게 반응하는 것을 보인다."
      ]
    },
    {
      "cell_type": "markdown",
      "metadata": {
        "id": "aPeIcRu5FbCg"
      },
      "source": [
        "### 훈련 데이터 추가"
      ]
    },
    {
      "cell_type": "markdown",
      "metadata": {
        "id": "jO1x_6gBFllU"
      },
      "source": [
        "앞서 제외시킨 7개 국가의 데이터를 포함해서 선형 회귀 모델을 훈련시켜 보자.\n",
        "제외된 7개 국가의 데이터는 다음과 같다.\n",
        "\n",
        "* 브라질(Brazil)\n",
        "* 멕시코(Mexico)\n",
        "* 칠레(Chile)\n",
        "* 체코(Czech Repulic)\n",
        "* 노르웨이(Norway)\n",
        "* 스위스(Switzerland)\n",
        "* 룩셈부르크(Luxembourg)"
      ]
    },
    {
      "cell_type": "code",
      "execution_count": null,
      "metadata": {
        "colab": {
          "base_uri": "https://localhost:8080/",
          "height": 300
        },
        "id": "fpEMdt8cfLIn",
        "outputId": "2536625a-795b-46bd-a721-88f8c63f1bff"
      },
      "outputs": [],
      "source": [
        "missing_data"
      ]
    },
    {
      "cell_type": "markdown",
      "metadata": {
        "id": "LR_yQU7FG7-A"
      },
      "source": [
        "아래 좌표는 7개 국가명을 아래 그래프에서 표기할 때 사용할 좌표이다."
      ]
    },
    {
      "cell_type": "code",
      "execution_count": null,
      "metadata": {
        "id": "mzD3BA8X2ZtN"
      },
      "outputs": [],
      "source": [
        "position_text2 = {\n",
        "    \"Brazil\": (1000, 9.0),\n",
        "    \"Mexico\": (11000, 9.0),\n",
        "    \"Chile\": (25000, 9.0),\n",
        "    \"Czech Republic\": (35000, 9.0),\n",
        "    \"Norway\": (60000, 3),\n",
        "    \"Switzerland\": (72000, 3.0),\n",
        "    \"Luxembourg\": (90000, 3.0),\n",
        "}"
      ]
    },
    {
      "cell_type": "markdown",
      "metadata": {
        "id": "HKiZxo9OHE75"
      },
      "source": [
        "7개 국가를 포함한 전체 훈련 데이터 셋을 이용하여 훈련한 결과를\n",
        "7개 국가를 제외했을 때의 훈련 결과와 비교한다.\n",
        "\n",
        "* 검정 실선: 7개 국가 포함 예측 선형 모델\n",
        "* 파랑 점선: 7개 국가 제외 예측 선형 모델"
      ]
    },
    {
      "cell_type": "code",
      "execution_count": null,
      "metadata": {
        "colab": {
          "base_uri": "https://localhost:8080/",
          "height": 321
        },
        "id": "ii9DczeMfLIn",
        "outputId": "cfebe55b-76bd-470c-d212-4c16e14bd5f6"
      },
      "outputs": [],
      "source": [
        "# 7개 국가를 제외한 국가들의 산점도 (파랑색 점)\n",
        "sample_data.plot(kind='scatter', x=\"GDP per capita\", y='Life satisfaction', figsize=(8,3))\n",
        "plt.axis([0, 110000, 0, 10])\n",
        "\n",
        "# 7개 국가 산점도(빨강 점)\n",
        "for country, pos_text in position_text2.items():\n",
        "    pos_data_x, pos_data_y = missing_data.loc[country]\n",
        "    # 7개 국가명 표기\n",
        "    plt.annotate(country, xy=(pos_data_x, pos_data_y), xytext=pos_text,\n",
        "            arrowprops=dict(facecolor='black', width=0.5, shrink=0.1, headwidth=5))\n",
        "    plt.plot(pos_data_x, pos_data_y, \"rs\")\n",
        "\n",
        "# 7개 국가 제외 예측 선형 모델 그래프 (파랑 점선)\n",
        "X=np.linspace(0, 110000, 1000)\n",
        "plt.plot(X, t0 + t1*X, \"b:\")\n",
        "\n",
        "# 7개 국가 포함 선형 회귀 모델 훈련 및 예측\n",
        "lin_reg_full = LinearRegression()\n",
        "Xfull = np.c_[oecd_country_stats[\"GDP per capita\"]]\n",
        "yfull = np.c_[oecd_country_stats[\"Life satisfaction\"]]\n",
        "lin_reg_full.fit(Xfull, yfull)\n",
        "\n",
        "# 7개 국가 포함 예측 선형 모델 그래프(검정 실선)\n",
        "t0full, t1full = lin_reg_full.intercept_[0], lin_reg_full.coef_[0][0]\n",
        "X = np.linspace(0, 110000, 1000)\n",
        "plt.plot(X, t0full + t1full * X, \"k\")\n",
        "plt.xlabel(\"GDP per capita (USD)\")\n",
        "\n",
        "plt.show()"
      ]
    },
    {
      "cell_type": "markdown",
      "metadata": {
        "id": "_roDoCs0C1KY"
      },
      "source": [
        "결론적으로 7개 국가를 포함하는 경우와 그렇지 않은 경우\n",
        "상당히 다른 선형 회귀 모델이 훈련된다.\n",
        "즉, 모델 훈련이 훈련 데이터 셋에 민감하게 반응하는 **과대 적합** 현상이 발생한다.\n",
        "이런 의미에서 선형 회귀 모델은 1인당 GDP와 삶의 만족도 사이의 관계를 모델링 하기에 부적절하다고 말할 수 있다."
      ]
    }
  ],
  "metadata": {
    "colab": {
      "name": "code_ml_landscape.ipynb",
      "provenance": []
    },
    "kernelspec": {
      "display_name": "base",
      "language": "python",
      "name": "python3"
    },
    "language_info": {
      "codemirror_mode": {
        "name": "ipython",
        "version": 3
      },
      "file_extension": ".py",
      "mimetype": "text/x-python",
      "name": "python",
      "nbconvert_exporter": "python",
      "pygments_lexer": "ipython3",
      "version": "3.12.7"
    },
    "nav_menu": {},
    "toc": {
      "navigate_menu": true,
      "number_sections": true,
      "sideBar": true,
      "threshold": 6,
      "toc_cell": false,
      "toc_section_display": "block",
      "toc_window_display": true
    },
    "toc_position": {
      "height": "616px",
      "left": "0px",
      "right": "20px",
      "top": "106px",
      "width": "213px"
    }
  },
  "nbformat": 4,
  "nbformat_minor": 0
}
